{
  "cells": [
    {
      "cell_type": "markdown",
      "metadata": {
        "id": "view-in-github",
        "colab_type": "text"
      },
      "source": [
        "<a href=\"https://colab.research.google.com/github/PushpaYa/FaceRecognition/blob/master/NeighborswithLayv2_input_id.ipynb\" target=\"_parent\"><img src=\"https://colab.research.google.com/assets/colab-badge.svg\" alt=\"Open In Colab\"/></a>"
      ]
    },
    {
      "cell_type": "code",
      "execution_count": null,
      "metadata": {
        "colab": {
          "base_uri": "https://localhost:8080/"
        },
        "id": "J75RS_W-Xg71",
        "outputId": "f1265c09-a19a-4567-fbf5-699fa6da6270"
      },
      "outputs": [
        {
          "output_type": "stream",
          "name": "stdout",
          "text": [
            "Cloning into 'transformers'...\n",
            "remote: Enumerating objects: 106200, done.\u001b[K\n",
            "remote: Total 106200 (delta 0), reused 0 (delta 0), pack-reused 106200\u001b[K\n",
            "Receiving objects: 100% (106200/106200), 83.62 MiB | 24.56 MiB/s, done.\n",
            "Resolving deltas: 100% (77101/77101), done.\n",
            "/bin/bash: line 0: cd: tranformers: No such file or directory\n",
            "\u001b[33m  DEPRECATION: A future pip version will change local packages to be built in-place without first copying to a temporary directory. We recommend you use --use-feature=in-tree-build to test your packages with this new behavior before it becomes the default.\n",
            "   pip 21.3 will remove support for this functionality. You can find discussion regarding this at https://github.com/pypa/pip/issues/7555.\u001b[0m\n",
            "  Installing build dependencies ... \u001b[?25l\u001b[?25hdone\n",
            "  Getting requirements to build wheel ... \u001b[?25l\u001b[?25hdone\n",
            "    Preparing wheel metadata ... \u001b[?25l\u001b[?25hdone\n",
            "  Building wheel for transformers (PEP 517) ... \u001b[?25l\u001b[?25hdone\n"
          ]
        }
      ],
      "source": [
        "!rm -r transformers\n",
        "!git clone -b modeling_layoutlmv2_v2 https://github.com/NielsRogge/transformers.git\n",
        "!cd tranformers\n",
        "!pip install -q ./transformers"
      ]
    },
    {
      "cell_type": "code",
      "execution_count": null,
      "metadata": {
        "id": "PyRQJ0ioXoGe"
      },
      "outputs": [],
      "source": [
        "!pip install -q datasets==1.11.0 seqeval"
      ]
    },
    {
      "cell_type": "code",
      "execution_count": null,
      "metadata": {
        "id": "g_Z1v914XqrS"
      },
      "outputs": [],
      "source": [
        "!pip install -q pyyaml==5.1\n",
        "# workaround: install old version of pytorch since detectron2 hasn't released packages for pytorch 1.9 (issue: https://github.com/facebookresearch/detectron2/issues/3158)\n",
        "!pip install -q torch==1.8.0+cu101 torchvision==0.9.0+cu101 -f https://download.pytorch.org/whl/torch_stable.html\n",
        "\n",
        "# install detectron2 that matches pytorch 1.8\n",
        "# See https://detectron2.readthedocs.io/tutorials/install.html for instructions\n",
        "#!pip install -q detectron2 -f https://dl.fbaipublicfiles.com/detectron2/wheels/cu101/torch1.8/index.html\n",
        "!python -m pip install -q 'git+https://github.com/facebookresearch/detectron2.git'"
      ]
    },
    {
      "cell_type": "code",
      "execution_count": null,
      "metadata": {
        "colab": {
          "base_uri": "https://localhost:8080/"
        },
        "id": "sMUoAZriDDax",
        "outputId": "624d0f89-2be4-427b-ec2e-9e74e2f7f83d"
      },
      "outputs": [
        {
          "output_type": "stream",
          "name": "stdout",
          "text": [
            "Requirement already satisfied: pyyaml==5.1 in /usr/local/lib/python3.7/dist-packages (5.1)\n",
            "torch:  1.8 ; cuda:  cu101\n",
            "Looking in links: https://dl.fbaipublicfiles.com/detectron2/wheels/cu101/torch1.8/index.html\n",
            "Requirement already satisfied: detectron2 in /usr/local/lib/python3.7/dist-packages (0.6)\n",
            "Requirement already satisfied: scipy>1.5.1 in /usr/local/lib/python3.7/dist-packages (from detectron2) (1.7.3)\n",
            "Requirement already satisfied: cloudpickle in /usr/local/lib/python3.7/dist-packages (from detectron2) (1.3.0)\n",
            "Requirement already satisfied: tqdm>4.29.0 in /usr/local/lib/python3.7/dist-packages (from detectron2) (4.62.3)\n",
            "Requirement already satisfied: fvcore<0.1.6,>=0.1.5 in /usr/local/lib/python3.7/dist-packages (from detectron2) (0.1.5.post20220119)\n",
            "Requirement already satisfied: termcolor>=1.1 in /usr/local/lib/python3.7/dist-packages (from detectron2) (1.1.0)\n",
            "Requirement already satisfied: omegaconf>=2.1 in /usr/local/lib/python3.7/dist-packages (from detectron2) (2.1.1)\n",
            "Requirement already satisfied: black==21.4b2 in /usr/local/lib/python3.7/dist-packages (from detectron2) (21.4b2)\n",
            "Requirement already satisfied: tensorboard in /usr/local/lib/python3.7/dist-packages (from detectron2) (2.7.0)\n",
            "Requirement already satisfied: Pillow>=7.1 in /usr/local/lib/python3.7/dist-packages (from detectron2) (7.1.2)\n",
            "Requirement already satisfied: pycocotools>=2.0.2 in /usr/local/lib/python3.7/dist-packages (from detectron2) (2.0.4)\n",
            "Requirement already satisfied: iopath<0.1.10,>=0.1.7 in /usr/local/lib/python3.7/dist-packages (from detectron2) (0.1.9)\n",
            "Requirement already satisfied: hydra-core>=1.1 in /usr/local/lib/python3.7/dist-packages (from detectron2) (1.1.1)\n",
            "Requirement already satisfied: matplotlib in /usr/local/lib/python3.7/dist-packages (from detectron2) (3.2.2)\n",
            "Requirement already satisfied: tabulate in /usr/local/lib/python3.7/dist-packages (from detectron2) (0.8.9)\n",
            "Requirement already satisfied: pydot in /usr/local/lib/python3.7/dist-packages (from detectron2) (1.3.0)\n",
            "Requirement already satisfied: future in /usr/local/lib/python3.7/dist-packages (from detectron2) (0.16.0)\n",
            "Requirement already satisfied: yacs>=0.1.8 in /usr/local/lib/python3.7/dist-packages (from detectron2) (0.1.8)\n",
            "Requirement already satisfied: typed-ast>=1.4.2 in /usr/local/lib/python3.7/dist-packages (from black==21.4b2->detectron2) (1.5.2)\n",
            "Requirement already satisfied: appdirs in /usr/local/lib/python3.7/dist-packages (from black==21.4b2->detectron2) (1.4.4)\n",
            "Requirement already satisfied: pathspec<1,>=0.8.1 in /usr/local/lib/python3.7/dist-packages (from black==21.4b2->detectron2) (0.9.0)\n",
            "Requirement already satisfied: click>=7.1.2 in /usr/local/lib/python3.7/dist-packages (from black==21.4b2->detectron2) (7.1.2)\n",
            "Requirement already satisfied: mypy-extensions>=0.4.3 in /usr/local/lib/python3.7/dist-packages (from black==21.4b2->detectron2) (0.4.3)\n",
            "Requirement already satisfied: toml>=0.10.1 in /usr/local/lib/python3.7/dist-packages (from black==21.4b2->detectron2) (0.10.2)\n",
            "Requirement already satisfied: typing-extensions>=3.7.4 in /usr/local/lib/python3.7/dist-packages (from black==21.4b2->detectron2) (3.10.0.2)\n",
            "Requirement already satisfied: regex>=2020.1.8 in /usr/local/lib/python3.7/dist-packages (from black==21.4b2->detectron2) (2022.1.18)\n",
            "Requirement already satisfied: numpy in /usr/local/lib/python3.7/dist-packages (from fvcore<0.1.6,>=0.1.5->detectron2) (1.19.5)\n",
            "Requirement already satisfied: pyyaml>=5.1 in /usr/local/lib/python3.7/dist-packages (from fvcore<0.1.6,>=0.1.5->detectron2) (5.1)\n",
            "Requirement already satisfied: antlr4-python3-runtime==4.8 in /usr/local/lib/python3.7/dist-packages (from hydra-core>=1.1->detectron2) (4.8)\n",
            "Requirement already satisfied: importlib-resources in /usr/local/lib/python3.7/dist-packages (from hydra-core>=1.1->detectron2) (5.4.0)\n",
            "Requirement already satisfied: portalocker in /usr/local/lib/python3.7/dist-packages (from iopath<0.1.10,>=0.1.7->detectron2) (2.3.2)\n",
            "Requirement already satisfied: cycler>=0.10 in /usr/local/lib/python3.7/dist-packages (from matplotlib->detectron2) (0.11.0)\n",
            "Requirement already satisfied: python-dateutil>=2.1 in /usr/local/lib/python3.7/dist-packages (from matplotlib->detectron2) (2.8.2)\n",
            "Requirement already satisfied: pyparsing!=2.0.4,!=2.1.2,!=2.1.6,>=2.0.1 in /usr/local/lib/python3.7/dist-packages (from matplotlib->detectron2) (3.0.7)\n",
            "Requirement already satisfied: kiwisolver>=1.0.1 in /usr/local/lib/python3.7/dist-packages (from matplotlib->detectron2) (1.3.2)\n",
            "Requirement already satisfied: six>=1.5 in /usr/local/lib/python3.7/dist-packages (from python-dateutil>=2.1->matplotlib->detectron2) (1.15.0)\n",
            "Requirement already satisfied: zipp>=3.1.0 in /usr/local/lib/python3.7/dist-packages (from importlib-resources->hydra-core>=1.1->detectron2) (3.7.0)\n",
            "Requirement already satisfied: google-auth-oauthlib<0.5,>=0.4.1 in /usr/local/lib/python3.7/dist-packages (from tensorboard->detectron2) (0.4.6)\n",
            "Requirement already satisfied: grpcio>=1.24.3 in /usr/local/lib/python3.7/dist-packages (from tensorboard->detectron2) (1.43.0)\n",
            "Requirement already satisfied: setuptools>=41.0.0 in /usr/local/lib/python3.7/dist-packages (from tensorboard->detectron2) (57.4.0)\n",
            "Requirement already satisfied: wheel>=0.26 in /usr/local/lib/python3.7/dist-packages (from tensorboard->detectron2) (0.37.1)\n",
            "Requirement already satisfied: google-auth<3,>=1.6.3 in /usr/local/lib/python3.7/dist-packages (from tensorboard->detectron2) (1.35.0)\n",
            "Requirement already satisfied: markdown>=2.6.8 in /usr/local/lib/python3.7/dist-packages (from tensorboard->detectron2) (3.3.6)\n",
            "Requirement already satisfied: tensorboard-plugin-wit>=1.6.0 in /usr/local/lib/python3.7/dist-packages (from tensorboard->detectron2) (1.8.1)\n",
            "Requirement already satisfied: tensorboard-data-server<0.7.0,>=0.6.0 in /usr/local/lib/python3.7/dist-packages (from tensorboard->detectron2) (0.6.1)\n",
            "Requirement already satisfied: werkzeug>=0.11.15 in /usr/local/lib/python3.7/dist-packages (from tensorboard->detectron2) (1.0.1)\n",
            "Requirement already satisfied: requests<3,>=2.21.0 in /usr/local/lib/python3.7/dist-packages (from tensorboard->detectron2) (2.23.0)\n",
            "Requirement already satisfied: protobuf>=3.6.0 in /usr/local/lib/python3.7/dist-packages (from tensorboard->detectron2) (3.17.3)\n",
            "Requirement already satisfied: absl-py>=0.4 in /usr/local/lib/python3.7/dist-packages (from tensorboard->detectron2) (1.0.0)\n",
            "Requirement already satisfied: rsa<5,>=3.1.4 in /usr/local/lib/python3.7/dist-packages (from google-auth<3,>=1.6.3->tensorboard->detectron2) (4.8)\n",
            "Requirement already satisfied: cachetools<5.0,>=2.0.0 in /usr/local/lib/python3.7/dist-packages (from google-auth<3,>=1.6.3->tensorboard->detectron2) (4.2.4)\n",
            "Requirement already satisfied: pyasn1-modules>=0.2.1 in /usr/local/lib/python3.7/dist-packages (from google-auth<3,>=1.6.3->tensorboard->detectron2) (0.2.8)\n",
            "Requirement already satisfied: requests-oauthlib>=0.7.0 in /usr/local/lib/python3.7/dist-packages (from google-auth-oauthlib<0.5,>=0.4.1->tensorboard->detectron2) (1.3.1)\n",
            "Requirement already satisfied: importlib-metadata>=4.4 in /usr/local/lib/python3.7/dist-packages (from markdown>=2.6.8->tensorboard->detectron2) (4.10.1)\n",
            "Requirement already satisfied: pyasn1<0.5.0,>=0.4.6 in /usr/local/lib/python3.7/dist-packages (from pyasn1-modules>=0.2.1->google-auth<3,>=1.6.3->tensorboard->detectron2) (0.4.8)\n",
            "Requirement already satisfied: certifi>=2017.4.17 in /usr/local/lib/python3.7/dist-packages (from requests<3,>=2.21.0->tensorboard->detectron2) (2021.10.8)\n",
            "Requirement already satisfied: idna<3,>=2.5 in /usr/local/lib/python3.7/dist-packages (from requests<3,>=2.21.0->tensorboard->detectron2) (2.10)\n",
            "Requirement already satisfied: urllib3!=1.25.0,!=1.25.1,<1.26,>=1.21.1 in /usr/local/lib/python3.7/dist-packages (from requests<3,>=2.21.0->tensorboard->detectron2) (1.24.3)\n",
            "Requirement already satisfied: chardet<4,>=3.0.2 in /usr/local/lib/python3.7/dist-packages (from requests<3,>=2.21.0->tensorboard->detectron2) (3.0.4)\n",
            "Requirement already satisfied: oauthlib>=3.0.0 in /usr/local/lib/python3.7/dist-packages (from requests-oauthlib>=0.7.0->google-auth-oauthlib<0.5,>=0.4.1->tensorboard->detectron2) (3.2.0)\n"
          ]
        }
      ],
      "source": [
        "!pip install pyyaml==5.1\n",
        "\n",
        "import torch\n",
        "TORCH_VERSION = \".\".join(torch.__version__.split(\".\")[:2])\n",
        "CUDA_VERSION = torch.__version__.split(\"+\")[-1]\n",
        "print(\"torch: \", TORCH_VERSION, \"; cuda: \", CUDA_VERSION)\n",
        "# Install detectron2 that matches the above pytorch version\n",
        "# See https://detectron2.readthedocs.io/tutorials/install.html for instructions\n",
        "!pip install detectron2 -f https://dl.fbaipublicfiles.com/detectron2/wheels/$CUDA_VERSION/torch$TORCH_VERSION/index.html\n",
        "# If there is not yet a detectron2 release that matches the given torch + CUDA version, you need to install a different pytorch.\n",
        "\n",
        "# exit(0)  # After installation, you may need to \"restart runtime\" in Colab. This line can also restart runtime"
      ]
    },
    {
      "cell_type": "code",
      "execution_count": null,
      "metadata": {
        "id": "ITJ-aT8QXqv5"
      },
      "outputs": [],
      "source": [
        "!pip install -q pytesseract"
      ]
    },
    {
      "cell_type": "code",
      "execution_count": null,
      "metadata": {
        "colab": {
          "base_uri": "https://localhost:8080/"
        },
        "id": "Q5WET2oqXqz3",
        "outputId": "ba7e5589-b714-454d-a75a-baf8b790ccc7"
      },
      "outputs": [
        {
          "output_type": "stream",
          "name": "stdout",
          "text": [
            "Requirement already satisfied: transformers in /usr/local/lib/python3.7/dist-packages (4.10.0.dev0)\n",
            "Requirement already satisfied: datasets in /usr/local/lib/python3.7/dist-packages (1.11.0)\n",
            "Requirement already satisfied: numpy>=1.17 in /usr/local/lib/python3.7/dist-packages (from transformers) (1.19.5)\n",
            "Requirement already satisfied: tokenizers<0.11,>=0.10.1 in /usr/local/lib/python3.7/dist-packages (from transformers) (0.10.3)\n",
            "Requirement already satisfied: huggingface-hub>=0.0.12 in /usr/local/lib/python3.7/dist-packages (from transformers) (0.0.19)\n",
            "Requirement already satisfied: filelock in /usr/local/lib/python3.7/dist-packages (from transformers) (3.4.2)\n",
            "Requirement already satisfied: sacremoses in /usr/local/lib/python3.7/dist-packages (from transformers) (0.0.47)\n",
            "Requirement already satisfied: packaging in /usr/local/lib/python3.7/dist-packages (from transformers) (21.3)\n",
            "Requirement already satisfied: requests in /usr/local/lib/python3.7/dist-packages (from transformers) (2.23.0)\n",
            "Requirement already satisfied: tqdm>=4.27 in /usr/local/lib/python3.7/dist-packages (from transformers) (4.62.3)\n",
            "Requirement already satisfied: regex!=2019.12.17 in /usr/local/lib/python3.7/dist-packages (from transformers) (2022.1.18)\n",
            "Requirement already satisfied: importlib-metadata in /usr/local/lib/python3.7/dist-packages (from transformers) (4.10.1)\n",
            "Requirement already satisfied: pyyaml>=5.1 in /usr/local/lib/python3.7/dist-packages (from transformers) (5.1)\n",
            "Requirement already satisfied: typing-extensions in /usr/local/lib/python3.7/dist-packages (from huggingface-hub>=0.0.12->transformers) (3.10.0.2)\n",
            "Requirement already satisfied: pyparsing!=3.0.5,>=2.0.2 in /usr/local/lib/python3.7/dist-packages (from packaging->transformers) (3.0.7)\n",
            "Requirement already satisfied: pyarrow!=4.0.0,>=1.0.0 in /usr/local/lib/python3.7/dist-packages (from datasets) (6.0.1)\n",
            "Requirement already satisfied: fsspec>=2021.05.0 in /usr/local/lib/python3.7/dist-packages (from datasets) (2022.1.0)\n",
            "Requirement already satisfied: multiprocess in /usr/local/lib/python3.7/dist-packages (from datasets) (0.70.12.2)\n",
            "Requirement already satisfied: xxhash in /usr/local/lib/python3.7/dist-packages (from datasets) (2.0.2)\n",
            "Requirement already satisfied: pandas in /usr/local/lib/python3.7/dist-packages (from datasets) (1.3.5)\n",
            "Requirement already satisfied: dill in /usr/local/lib/python3.7/dist-packages (from datasets) (0.3.4)\n",
            "Requirement already satisfied: certifi>=2017.4.17 in /usr/local/lib/python3.7/dist-packages (from requests->transformers) (2021.10.8)\n",
            "Requirement already satisfied: chardet<4,>=3.0.2 in /usr/local/lib/python3.7/dist-packages (from requests->transformers) (3.0.4)\n",
            "Requirement already satisfied: idna<3,>=2.5 in /usr/local/lib/python3.7/dist-packages (from requests->transformers) (2.10)\n",
            "Requirement already satisfied: urllib3!=1.25.0,!=1.25.1,<1.26,>=1.21.1 in /usr/local/lib/python3.7/dist-packages (from requests->transformers) (1.24.3)\n",
            "Requirement already satisfied: zipp>=0.5 in /usr/local/lib/python3.7/dist-packages (from importlib-metadata->transformers) (3.7.0)\n",
            "Requirement already satisfied: pytz>=2017.3 in /usr/local/lib/python3.7/dist-packages (from pandas->datasets) (2018.9)\n",
            "Requirement already satisfied: python-dateutil>=2.7.3 in /usr/local/lib/python3.7/dist-packages (from pandas->datasets) (2.8.2)\n",
            "Requirement already satisfied: six>=1.5 in /usr/local/lib/python3.7/dist-packages (from python-dateutil>=2.7.3->pandas->datasets) (1.15.0)\n",
            "Requirement already satisfied: click in /usr/local/lib/python3.7/dist-packages (from sacremoses->transformers) (7.1.2)\n",
            "Requirement already satisfied: joblib in /usr/local/lib/python3.7/dist-packages (from sacremoses->transformers) (1.1.0)\n"
          ]
        }
      ],
      "source": [
        "! pip install transformers datasets"
      ]
    },
    {
      "cell_type": "code",
      "execution_count": null,
      "metadata": {
        "colab": {
          "base_uri": "https://localhost:8080/"
        },
        "id": "vqIBe7uFjb0J",
        "outputId": "7751f854-b075-4687-d12e-11a65de37b5d"
      },
      "outputs": [
        {
          "output_type": "stream",
          "name": "stdout",
          "text": [
            "Drive already mounted at /content/gdrive; to attempt to forcibly remount, call drive.mount(\"/content/gdrive\", force_remount=True).\n"
          ]
        }
      ],
      "source": [
        "from google.colab import drive\n",
        "drive.mount('/content/gdrive')"
      ]
    },
    {
      "cell_type": "code",
      "execution_count": null,
      "metadata": {
        "colab": {
          "base_uri": "https://localhost:8080/"
        },
        "id": "Eg9ne0SBjb5D",
        "outputId": "c971ff28-5db1-407e-a183-bc3de45f8afb"
      },
      "outputs": [
        {
          "output_type": "stream",
          "name": "stdout",
          "text": [
            "Archive:  /content/dataset.zip\n",
            "replace dataset/training_data/images/00093726.png? [y]es, [n]o, [A]ll, [N]one, [r]ename: A\n",
            "  inflating: dataset/training_data/images/00093726.png  \n",
            "  inflating: dataset/training_data/images/71563825.png  \n",
            "  inflating: dataset/training_data/images/81749056_9057.png  \n",
            "  inflating: dataset/training_data/images/0001485288.png  \n",
            "  inflating: dataset/training_data/images/71366499.png  \n",
            "  inflating: dataset/training_data/images/00070353.png  \n",
            "  inflating: dataset/training_data/images/660978.png  \n",
            "  inflating: dataset/training_data/images/01408099_01408101.png  \n",
            "  inflating: dataset/training_data/images/01197604.png  \n",
            "  inflating: dataset/training_data/images/71601299.png  \n",
            "  inflating: dataset/training_data/images/80728670.png  \n",
            "  inflating: dataset/training_data/images/13149651.png  \n",
            "  inflating: dataset/training_data/images/80310840a.png  \n",
            "  inflating: dataset/training_data/images/00922237.png  \n",
            "  inflating: dataset/training_data/images/12052385.png  \n",
            "  inflating: dataset/training_data/images/0030031163.png  \n",
            "  inflating: dataset/training_data/images/11875011.png  \n",
            "  inflating: dataset/training_data/images/12825369.png  \n",
            "  inflating: dataset/training_data/images/00851879.png  \n",
            "  inflating: dataset/training_data/images/81310636.png  \n",
            "  inflating: dataset/training_data/images/12603270.png  \n",
            "  inflating: dataset/training_data/images/0001118259.png  \n",
            "  inflating: dataset/training_data/images/81619511_9513.png  \n",
            "  inflating: dataset/training_data/images/81619486_9488.png  \n",
            "  inflating: dataset/training_data/images/0013255595.png  \n",
            "  inflating: dataset/training_data/images/81186212.png  \n",
            "  inflating: dataset/training_data/images/80718412_8413.png  \n",
            "  inflating: dataset/training_data/images/01073843.png  \n",
            "  inflating: dataset/training_data/images/80707440_7443.png  \n",
            "  inflating: dataset/training_data/images/00836816.png  \n",
            "  inflating: dataset/training_data/images/71202511.png  \n",
            "  inflating: dataset/training_data/images/00920294.png  \n",
            "  inflating: dataset/training_data/images/00920222.png  \n",
            "  inflating: dataset/training_data/images/00837285.png  \n",
            "  inflating: dataset/training_data/images/01150773_01150774.png  \n",
            "  inflating: dataset/training_data/images/00851772_1780.png  \n",
            "  inflating: dataset/training_data/images/0011505151.png  \n",
            "  inflating: dataset/training_data/images/81574683.png  \n",
            "  inflating: dataset/training_data/images/11508234.png  \n",
            "  inflating: dataset/training_data/images/00860012_00860014.png  \n",
            "  inflating: dataset/training_data/images/716552.png  \n",
            "  inflating: dataset/training_data/images/01191071_1072.png  \n",
            "  inflating: dataset/training_data/images/00838511_00838525.png  \n",
            "  inflating: dataset/training_data/images/82254638.png  \n",
            "  inflating: dataset/training_data/images/71206427.png  \n",
            "  inflating: dataset/training_data/images/87533049.png  \n",
            "  inflating: dataset/training_data/images/71341634.png  \n",
            "  inflating: dataset/training_data/images/00865872.png  \n",
            "  inflating: dataset/training_data/images/71108371.png  \n",
            "  inflating: dataset/training_data/images/00866042.png  \n",
            "  inflating: dataset/training_data/images/01122115.png  \n",
            "  inflating: dataset/training_data/images/71190280.png  \n",
            "  inflating: dataset/training_data/images/0011856542.png  \n",
            "  inflating: dataset/training_data/images/92094751.png  \n",
            "  inflating: dataset/training_data/images/0001123541.png  \n",
            "  inflating: dataset/training_data/images/0060302201.png  \n",
            "  inflating: dataset/training_data/images/0012529284.png  \n",
            "  inflating: dataset/training_data/images/91315069_91315070.png  \n",
            "  inflating: dataset/training_data/images/0011976929.png  \n",
            "  inflating: dataset/training_data/images/0011973451.png  \n",
            "  inflating: dataset/training_data/images/0060077689.png  \n",
            "  inflating: dataset/training_data/images/0001463448.png  \n",
            "  inflating: dataset/training_data/images/91372360.png  \n",
            "  inflating: dataset/training_data/images/0060029036.png  \n",
            "  inflating: dataset/training_data/images/89368010.png  \n",
            "  inflating: dataset/training_data/images/0001438955.png  \n",
            "  inflating: dataset/training_data/images/0001463282.png  \n",
            "  inflating: dataset/training_data/images/0011845203.png  \n",
            "  inflating: dataset/training_data/images/0012178355.png  \n",
            "  inflating: dataset/training_data/images/92039708_9710.png  \n",
            "  inflating: dataset/training_data/images/00836244.png  \n",
            "  inflating: dataset/training_data/images/0012947358.png  \n",
            "  inflating: dataset/training_data/images/0060173256.png  \n",
            "  inflating: dataset/training_data/images/89867723.png  \n",
            "  inflating: dataset/training_data/images/0060024314.png  \n",
            "  inflating: dataset/training_data/images/0000990274.png  \n",
            "  inflating: dataset/training_data/images/0060068489.png  \n",
            "  inflating: dataset/training_data/images/0071032807.png  \n",
            "  inflating: dataset/training_data/images/93380187.png  \n",
            "  inflating: dataset/training_data/images/89386032.png  \n",
            "  inflating: dataset/training_data/images/93329540.png  \n",
            "  inflating: dataset/training_data/images/0060136394.png  \n",
            "  inflating: dataset/training_data/images/92091873.png  \n",
            "  inflating: dataset/training_data/images/91104867.png  \n",
            "  inflating: dataset/training_data/images/0011838621.png  \n",
            "  inflating: dataset/training_data/images/0060080406.png  \n",
            "  inflating: dataset/training_data/images/0001477983.png  \n",
            "  inflating: dataset/training_data/images/0012529295.png  \n",
            "  inflating: dataset/training_data/images/0060308461.png  \n",
            "  inflating: dataset/training_data/images/0071032790.png  \n",
            "  inflating: dataset/training_data/images/0060036622.png  \n",
            "  inflating: dataset/training_data/images/91581919.png  \n",
            "  inflating: dataset/training_data/images/0060091229.png  \n",
            "  inflating: dataset/training_data/images/91914407.png  \n",
            "  inflating: dataset/training_data/images/91939637.png  \n",
            "  inflating: dataset/training_data/images/93455715.png  \n",
            "  inflating: dataset/training_data/images/92657311_7313.png  \n",
            "  inflating: dataset/training_data/images/0001129658.png  \n",
            "  inflating: dataset/training_data/images/91355841.png  \n",
            "  inflating: dataset/training_data/images/92657391.png  \n",
            "  inflating: dataset/training_data/images/92298125.png  \n",
            "  inflating: dataset/training_data/images/91974562.png  \n",
            "  inflating: dataset/training_data/images/00283813.png  \n",
            "  inflating: dataset/training_data/images/0000989556.png  \n",
            "  inflating: dataset/training_data/images/91161344_91161347.png  \n",
            "  inflating: dataset/training_data/images/0011899960.png  \n",
            "  inflating: dataset/training_data/images/92586242.png  \n",
            "  inflating: dataset/training_data/images/91391310.png  \n",
            "  inflating: dataset/training_data/images/87682908.png  \n",
            "  inflating: dataset/training_data/images/0030041455.png  \n",
            "  inflating: dataset/training_data/images/0060025670.png  \n",
            "  inflating: dataset/training_data/images/91391286.png  \n",
            "  inflating: dataset/training_data/images/0001209043.png  \n",
            "  inflating: dataset/training_data/images/93213298.png  \n",
            "  inflating: dataset/training_data/images/91856041_6049.png  \n",
            "  inflating: dataset/training_data/images/0001476912.png  \n",
            "  inflating: dataset/training_data/images/0012199830.png  \n",
            "  inflating: dataset/training_data/images/0001456787.png  \n",
            "  inflating: dataset/training_data/images/91361993.png  \n",
            "  inflating: dataset/training_data/images/0060262650.png  \n",
            "  inflating: dataset/training_data/images/0060270727.png  \n",
            "  inflating: dataset/training_data/images/88057519.png  \n",
            "  inflating: dataset/training_data/images/0060255888.png  \n",
            "  inflating: dataset/training_data/images/89817999_8002.png  \n",
            "  inflating: dataset/training_data/images/0001239897.png  \n",
            "  inflating: dataset/training_data/images/92314414.png  \n",
            "  inflating: dataset/training_data/images/88547278_88547279.png  \n",
            "  inflating: dataset/training_data/images/00040534.png  \n",
            "  inflating: dataset/training_data/images/92081358_1359.png  \n",
            "  inflating: dataset/training_data/images/91903177.png  \n",
            "  inflating: dataset/training_data/images/91356315.png  \n",
            "  inflating: dataset/training_data/images/92094746.png  \n",
            "  inflating: dataset/training_data/images/92433599_92433601.png  \n",
            "  inflating: dataset/training_data/images/0060214859.png  \n",
            "  inflating: dataset/training_data/images/0012602424.png  \n",
            "  inflating: dataset/training_data/images/92327794.png  \n",
            "  inflating: dataset/training_data/images/0011906503.png  \n",
            "  inflating: dataset/training_data/images/0060094595.png  \n",
            "  inflating: dataset/training_data/images/0060207528.png  \n",
            "  inflating: dataset/training_data/images/0060308251.png  \n",
            "  inflating: dataset/training_data/images/0060000813.png  \n",
            "  inflating: dataset/training_data/images/0011859695.png  \n",
            "  inflating: dataset/training_data/images/93351929_93351931.png  \n",
            "  inflating: dataset/training_data/images/0060007216.png  \n",
            "  inflating: dataset/training_data/images/0011974919.png  \n",
            "  inflating: dataset/training_data/images/87672097.png  \n",
            "  inflating: dataset/training_data/images/0060165115.png  \n",
            "  inflating: dataset/training_data/images/0000999294.png  \n",
            "  inflating: dataset/training_data/images/0000971160.png  \n",
            "  inflating: dataset/training_data/changed/91104867.json  \n",
            "  inflating: dataset/training_data/changed/91391310.json  \n",
            "  inflating: dataset/training_data/changed/93455715.json  \n",
            "  inflating: dataset/training_data/changed/0001463448.json  \n",
            "  inflating: dataset/training_data/changed/0060094595.json  \n",
            "  inflating: dataset/training_data/changed/0030031163.json  \n",
            "  inflating: dataset/training_data/changed/0011899960.json  \n",
            "  inflating: dataset/training_data/changed/0060029036.json  \n",
            "  inflating: dataset/training_data/changed/12825369.json  \n",
            "  inflating: dataset/training_data/changed/80310840a.json  \n",
            "  inflating: dataset/training_data/changed/92657391.json  \n",
            "  inflating: dataset/training_data/changed/80728670.json  \n",
            "  inflating: dataset/training_data/changed/0060214859.json  \n",
            "  inflating: dataset/training_data/changed/91391286.json  \n",
            "  inflating: dataset/training_data/changed/0001463282.json  \n",
            "  inflating: dataset/training_data/changed/00866042.json  \n",
            "  inflating: dataset/training_data/changed/00851772_1780.json  \n",
            "  inflating: dataset/training_data/changed/0060077689.json  \n",
            "  inflating: dataset/training_data/changed/0060270727.json  \n",
            "  inflating: dataset/training_data/changed/0001118259.json  \n",
            "  inflating: dataset/training_data/changed/81619511_9513.json  \n",
            "  inflating: dataset/training_data/changed/92298125.json  \n",
            "  inflating: dataset/training_data/changed/0001123541.json  \n",
            "  inflating: dataset/training_data/changed/00837285.json  \n",
            "  inflating: dataset/training_data/changed/0011856542.json  \n",
            "  inflating: dataset/training_data/changed/91856041_6049.json  \n",
            "  inflating: dataset/training_data/changed/0011973451.json  \n",
            "  inflating: dataset/training_data/changed/91903177.json  \n",
            "  inflating: dataset/training_data/changed/0001438955.json  \n",
            "  inflating: dataset/training_data/changed/0013255595.json  \n",
            "  inflating: dataset/training_data/changed/80718412_8413.json  \n",
            "  inflating: dataset/training_data/changed/00851879.json  \n",
            "  inflating: dataset/training_data/changed/0011976929.json  \n",
            "  inflating: dataset/training_data/changed/88547278_88547279.json  \n",
            "  inflating: dataset/training_data/changed/92039708_9710.json  \n",
            "  inflating: dataset/training_data/changed/71366499.json  \n",
            "  inflating: dataset/training_data/changed/91372360.json  \n",
            "  inflating: dataset/training_data/changed/01197604.json  \n",
            "  inflating: dataset/training_data/changed/00070353.json  \n",
            "  inflating: dataset/training_data/changed/0060025670.json  \n",
            "  inflating: dataset/training_data/changed/89386032.json  \n",
            "  inflating: dataset/training_data/changed/93380187.json  \n",
            "  inflating: dataset/training_data/changed/91914407.json  \n",
            "  inflating: dataset/training_data/changed/00865872.json  \n",
            "  inflating: dataset/training_data/changed/91939637.json  \n",
            "  inflating: dataset/training_data/changed/89368010.json  \n",
            "  inflating: dataset/training_data/changed/660978.json  \n",
            "  inflating: dataset/training_data/changed/00283813.json  \n",
            "  inflating: dataset/training_data/changed/00920222.json  \n",
            "  inflating: dataset/training_data/changed/00860012_00860014.json  \n",
            "  inflating: dataset/training_data/changed/0001485288.json  \n",
            "  inflating: dataset/training_data/changed/12603270.json  \n",
            "  inflating: dataset/training_data/changed/00040534.json  \n",
            "  inflating: dataset/training_data/changed/0060000813.json  \n",
            "  inflating: dataset/training_data/changed/0012178355.json  \n",
            "  inflating: dataset/training_data/changed/89867723.json  \n",
            "  inflating: dataset/training_data/changed/91974562.json  \n",
            "  inflating: dataset/training_data/changed/80707440_7443.json  \n",
            "  inflating: dataset/training_data/changed/71190280.json  \n",
            "  inflating: dataset/training_data/changed/0060302201.json  \n",
            "  inflating: dataset/training_data/changed/0012529284.json  \n",
            "  inflating: dataset/training_data/changed/0000989556.json  \n",
            "  inflating: dataset/training_data/changed/91315069_91315070.json  \n",
            "  inflating: dataset/training_data/changed/81574683.json  \n",
            "  inflating: dataset/training_data/changed/0060207528.json  \n",
            "  inflating: dataset/training_data/changed/92327794.json  \n",
            "  inflating: dataset/training_data/changed/0012947358.json  \n",
            "  inflating: dataset/training_data/changed/11508234.json  \n",
            "  inflating: dataset/training_data/changed/91356315.json  \n",
            "  inflating: dataset/training_data/changed/13149651.json  \n",
            "  inflating: dataset/training_data/changed/92094751.json  \n",
            "  inflating: dataset/training_data/changed/00838511_00838525.json  \n",
            "  inflating: dataset/training_data/changed/0060068489.json  \n",
            "  inflating: dataset/training_data/changed/81749056_9057.json  \n",
            "  inflating: dataset/training_data/changed/00922237.json  \n",
            "  inflating: dataset/training_data/changed/0011845203.json  \n",
            "  inflating: dataset/training_data/changed/0060308251.json  \n",
            "  inflating: dataset/training_data/changed/87533049.json  \n",
            "  inflating: dataset/training_data/changed/01408099_01408101.json  \n",
            "  inflating: dataset/training_data/changed/0030041455.json  \n",
            "  inflating: dataset/training_data/changed/01073843.json  \n",
            "  inflating: dataset/training_data/changed/88057519.json  \n",
            "  inflating: dataset/training_data/changed/81619486_9488.json  \n",
            "  inflating: dataset/training_data/changed/00920294.json  \n",
            "  inflating: dataset/training_data/changed/92586242.json  \n",
            "  inflating: dataset/training_data/changed/0001239897.json  \n",
            "  inflating: dataset/training_data/changed/0060308461.json  \n",
            "  inflating: dataset/training_data/changed/11875011.json  \n",
            "  inflating: dataset/training_data/changed/71601299.json  \n",
            "  inflating: dataset/training_data/changed/0001209043.json  \n",
            "  inflating: dataset/training_data/changed/0071032807.json  \n",
            "  inflating: dataset/training_data/changed/91361993.json  \n",
            "  inflating: dataset/training_data/changed/92094746.json  \n",
            "  inflating: dataset/training_data/changed/0060255888.json  \n",
            "  inflating: dataset/training_data/changed/71202511.json  \n",
            "  inflating: dataset/training_data/changed/0060262650.json  \n",
            "  inflating: dataset/training_data/changed/0001456787.json  \n",
            "  inflating: dataset/training_data/changed/0000990274.json  \n",
            "  inflating: dataset/training_data/changed/00836244.json  \n",
            "  inflating: dataset/training_data/changed/0012199830.json  \n",
            "  inflating: dataset/training_data/changed/12052385.json  \n",
            "  inflating: dataset/training_data/changed/89817999_8002.json  \n",
            "  inflating: dataset/training_data/changed/0060136394.json  \n",
            "  inflating: dataset/training_data/changed/0001129658.json  \n",
            "  inflating: dataset/training_data/changed/0001476912.json  \n",
            "  inflating: dataset/training_data/changed/92314414.json  \n",
            "  inflating: dataset/training_data/changed/0011974919.json  \n",
            "  inflating: dataset/training_data/changed/0060007216.json  \n",
            "  inflating: dataset/training_data/changed/93213298.json  \n",
            "  inflating: dataset/training_data/changed/0071032790.json  \n",
            "  inflating: dataset/training_data/changed/81186212.json  \n",
            "  inflating: dataset/training_data/changed/0012602424.json  \n",
            "  inflating: dataset/training_data/changed/0060024314.json  \n",
            "  inflating: dataset/training_data/changed/0011906503.json  \n",
            "  inflating: dataset/training_data/changed/00093726.json  \n",
            "  inflating: dataset/training_data/changed/91581919.json  \n",
            "  inflating: dataset/training_data/changed/71206427.json  \n",
            "  inflating: dataset/training_data/changed/01150773_01150774.json  \n",
            "  inflating: dataset/training_data/changed/87682908.json  \n",
            "  inflating: dataset/training_data/changed/0011505151.json  \n",
            "  inflating: dataset/training_data/changed/92081358_1359.json  \n",
            "  inflating: dataset/training_data/changed/01191071_1072.json  \n",
            "  inflating: dataset/training_data/changed/92433599_92433601.json  \n",
            "  inflating: dataset/training_data/changed/0011859695.json  \n",
            "  inflating: dataset/training_data/changed/92091873.json  \n",
            "  inflating: dataset/training_data/changed/0000999294.json  \n",
            "  inflating: dataset/training_data/changed/0001477983.json  \n",
            "  inflating: dataset/training_data/changed/0060173256.json  \n",
            "  inflating: dataset/training_data/changed/01122115.json  \n",
            "  inflating: dataset/training_data/changed/0060080406.json  \n",
            "  inflating: dataset/training_data/changed/0012529295.json  \n",
            "  inflating: dataset/training_data/changed/87672097.json  \n",
            "  inflating: dataset/training_data/changed/71341634.json  \n",
            "  inflating: dataset/training_data/changed/0060036622.json  \n",
            "  inflating: dataset/training_data/changed/91355841.json  \n",
            "  inflating: dataset/training_data/changed/92657311_7313.json  \n",
            "  inflating: dataset/training_data/changed/93351929_93351931.json  \n",
            "  inflating: dataset/training_data/changed/93329540.json  \n",
            "  inflating: dataset/training_data/changed/0060091229.json  \n",
            "  inflating: dataset/training_data/changed/716552.json  \n",
            "  inflating: dataset/training_data/changed/00836816.json  \n",
            "  inflating: dataset/training_data/changed/81310636.json  \n",
            "  inflating: dataset/training_data/changed/71563825.json  \n",
            "  inflating: dataset/training_data/changed/82254638.json  \n",
            "  inflating: dataset/training_data/changed/0011838621.json  \n",
            "  inflating: dataset/training_data/changed/0060165115.json  \n",
            "  inflating: dataset/training_data/changed/71108371.json  \n",
            "  inflating: dataset/training_data/changed/91161344_91161347.json  \n",
            "  inflating: dataset/training_data/changed/0000971160.json  \n",
            "  inflating: dataset/training_data/annotations/0000971160.json  \n",
            "  inflating: dataset/training_data/annotations/80310840a.json  \n",
            "  inflating: dataset/training_data/annotations/92298125.json  \n",
            "  inflating: dataset/training_data/annotations/0060094595.json  \n",
            "  inflating: dataset/training_data/annotations/12825369.json  \n",
            "  inflating: dataset/training_data/annotations/0060270727.json  \n",
            "  inflating: dataset/training_data/annotations/0060214859.json  \n",
            "  inflating: dataset/training_data/annotations/0001123541.json  \n",
            "  inflating: dataset/training_data/annotations/80728670.json  \n",
            "  inflating: dataset/training_data/annotations/93455715.json  \n",
            "  inflating: dataset/training_data/annotations/0060029036.json  \n",
            "  inflating: dataset/training_data/annotations/0060077689.json  \n",
            "  inflating: dataset/training_data/annotations/92657391.json  \n",
            "  inflating: dataset/training_data/annotations/0001118259.json  \n",
            "  inflating: dataset/training_data/annotations/00866042.json  \n",
            "  inflating: dataset/training_data/annotations/00851772_1780.json  \n",
            "  inflating: dataset/training_data/annotations/00837285.json  \n",
            "  inflating: dataset/training_data/annotations/0011856542.json  \n",
            "  inflating: dataset/training_data/annotations/0001463282.json  \n",
            "  inflating: dataset/training_data/annotations/91391310.json  \n",
            "  inflating: dataset/training_data/annotations/91104867.json  \n",
            "  inflating: dataset/training_data/annotations/91391286.json  \n",
            "  inflating: dataset/training_data/annotations/81619511_9513.json  \n",
            "  inflating: dataset/training_data/annotations/0030031163.json  \n",
            "  inflating: dataset/training_data/annotations/0011899960.json  \n",
            "  inflating: dataset/training_data/annotations/0001463448.json  \n",
            "  inflating: dataset/training_data/annotations/91856041_6049.json  \n",
            "  inflating: dataset/training_data/annotations/80718412_8413.json  \n",
            "  inflating: dataset/training_data/annotations/91903177.json  \n",
            "  inflating: dataset/training_data/annotations/0001438955.json  \n",
            "  inflating: dataset/training_data/annotations/0011976929.json  \n",
            "  inflating: dataset/training_data/annotations/00851879.json  \n",
            "  inflating: dataset/training_data/annotations/91372360.json  \n",
            "  inflating: dataset/training_data/annotations/0001485288.json  \n",
            "  inflating: dataset/training_data/annotations/00865872.json  \n",
            "  inflating: dataset/training_data/annotations/00070353.json  \n",
            "  inflating: dataset/training_data/annotations/0060025670.json  \n",
            "  inflating: dataset/training_data/annotations/91914407.json  \n",
            "  inflating: dataset/training_data/annotations/12603270.json  \n",
            "  inflating: dataset/training_data/annotations/93380187.json  \n",
            "  inflating: dataset/training_data/annotations/0012178355.json  \n",
            "  inflating: dataset/training_data/annotations/00860012_00860014.json  \n",
            "  inflating: dataset/training_data/annotations/88547278_88547279.json  \n",
            "  inflating: dataset/training_data/annotations/92039708_9710.json  \n",
            "  inflating: dataset/training_data/annotations/01197604.json  \n",
            "  inflating: dataset/training_data/annotations/89386032.json  \n",
            "  inflating: dataset/training_data/annotations/0011973451.json  \n",
            "  inflating: dataset/training_data/annotations/91974562.json  \n",
            "  inflating: dataset/training_data/annotations/660978.json  \n",
            "  inflating: dataset/training_data/annotations/0001239897.json  \n",
            "  inflating: dataset/training_data/annotations/71366499.json  \n",
            "  inflating: dataset/training_data/annotations/0013255595.json  \n",
            "  inflating: dataset/training_data/annotations/80707440_7443.json  \n",
            "  inflating: dataset/training_data/annotations/00040534.json  \n",
            "  inflating: dataset/training_data/annotations/0060000813.json  \n",
            "  inflating: dataset/training_data/annotations/0071032807.json  \n",
            "  inflating: dataset/training_data/annotations/0000989556.json  \n",
            "  inflating: dataset/training_data/annotations/92586242.json  \n",
            "  inflating: dataset/training_data/annotations/89368010.json  \n",
            "  inflating: dataset/training_data/annotations/91939637.json  \n",
            "  inflating: dataset/training_data/annotations/89867723.json  \n",
            "  inflating: dataset/training_data/annotations/0060255888.json  \n",
            "  inflating: dataset/training_data/annotations/0060302201.json  \n",
            "  inflating: dataset/training_data/annotations/92327794.json  \n",
            "  inflating: dataset/training_data/annotations/0001209043.json  \n",
            "  inflating: dataset/training_data/annotations/11508234.json  \n",
            "  inflating: dataset/training_data/annotations/00283813.json  \n",
            "  inflating: dataset/training_data/annotations/89817999_8002.json  \n",
            "  inflating: dataset/training_data/annotations/00920222.json  \n",
            "  inflating: dataset/training_data/annotations/11875011.json  \n",
            "  inflating: dataset/training_data/annotations/71190280.json  \n",
            "  inflating: dataset/training_data/annotations/00836244.json  \n",
            "  inflating: dataset/training_data/annotations/91315069_91315070.json  \n",
            "  inflating: dataset/training_data/annotations/0012529284.json  \n",
            "  inflating: dataset/training_data/annotations/71206427.json  \n",
            "  inflating: dataset/training_data/annotations/92094746.json  \n",
            "  inflating: dataset/training_data/annotations/0060007216.json  \n",
            "  inflating: dataset/training_data/annotations/92094751.json  \n",
            "  inflating: dataset/training_data/annotations/00093726.json  \n",
            "  inflating: dataset/training_data/annotations/81574683.json  \n",
            "  inflating: dataset/training_data/annotations/0012199830.json  \n",
            "  inflating: dataset/training_data/annotations/0001476912.json  \n",
            "  inflating: dataset/training_data/annotations/92081358_1359.json  \n",
            "  inflating: dataset/training_data/annotations/0011845203.json  \n",
            "  inflating: dataset/training_data/annotations/00838511_00838525.json  \n",
            "  inflating: dataset/training_data/annotations/0011906503.json  \n",
            "  inflating: dataset/training_data/annotations/91356315.json  \n",
            "  inflating: dataset/training_data/annotations/0060068489.json  \n",
            "  inflating: dataset/training_data/annotations/87682908.json  \n",
            "  inflating: dataset/training_data/annotations/0011974919.json  \n",
            "  inflating: dataset/training_data/annotations/13149651.json  \n",
            "  inflating: dataset/training_data/annotations/0012947358.json  \n",
            "  inflating: dataset/training_data/annotations/01150773_01150774.json  \n",
            "  inflating: dataset/training_data/annotations/01408099_01408101.json  \n",
            "  inflating: dataset/training_data/annotations/0012602424.json  \n",
            "  inflating: dataset/training_data/annotations/0060024314.json  \n",
            "  inflating: dataset/training_data/annotations/81186212.json  \n",
            "  inflating: dataset/training_data/annotations/01191071_1072.json  \n",
            "  inflating: dataset/training_data/annotations/0000999294.json  \n",
            "  inflating: dataset/training_data/annotations/92433599_92433601.json  \n",
            "  inflating: dataset/training_data/annotations/0060207528.json  \n",
            "  inflating: dataset/training_data/annotations/00922237.json  \n",
            "  inflating: dataset/training_data/annotations/0030041455.json  \n",
            "  inflating: dataset/training_data/annotations/92091873.json  \n",
            "  inflating: dataset/training_data/annotations/81749056_9057.json  \n",
            "  inflating: dataset/training_data/annotations/92314414.json  \n",
            "  inflating: dataset/training_data/annotations/87533049.json  \n",
            "  inflating: dataset/training_data/annotations/0060308251.json  \n",
            "  inflating: dataset/training_data/annotations/01073843.json  \n",
            "  inflating: dataset/training_data/annotations/01122115.json  \n",
            "  inflating: dataset/training_data/annotations/91161344_91161347.json  \n",
            "  inflating: dataset/training_data/annotations/0060036622.json  \n",
            "  inflating: dataset/training_data/annotations/0060173256.json  \n",
            "  inflating: dataset/training_data/annotations/91355841.json  \n",
            "  inflating: dataset/training_data/annotations/00920294.json  \n",
            "  inflating: dataset/training_data/annotations/0060080406.json  \n",
            "  inflating: dataset/training_data/annotations/71202511.json  \n",
            "  inflating: dataset/training_data/annotations/0001477983.json  \n",
            "  inflating: dataset/training_data/annotations/88057519.json  \n",
            "  inflating: dataset/training_data/annotations/81310636.json  \n",
            "  inflating: dataset/training_data/annotations/81619486_9488.json  \n",
            "  inflating: dataset/training_data/annotations/0060091229.json  \n",
            "  inflating: dataset/training_data/annotations/91361993.json  \n",
            "  inflating: dataset/training_data/annotations/0001129658.json  \n",
            "  inflating: dataset/training_data/annotations/00836816.json  \n",
            "  inflating: dataset/training_data/annotations/0000990274.json  \n",
            "  inflating: dataset/training_data/annotations/0060136394.json  \n",
            "  inflating: dataset/training_data/annotations/0060308461.json  \n",
            "  inflating: dataset/training_data/annotations/93351929_93351931.json  \n",
            "  inflating: dataset/training_data/annotations/93329540.json  \n",
            "  inflating: dataset/training_data/annotations/87672097.json  \n",
            "  inflating: dataset/training_data/annotations/92657311_7313.json  \n",
            "  inflating: dataset/training_data/annotations/0001456787.json  \n",
            "  inflating: dataset/training_data/annotations/0011505151.json  \n",
            "  inflating: dataset/training_data/annotations/71341634.json  \n",
            "  inflating: dataset/training_data/annotations/0012529295.json  \n",
            "  inflating: dataset/training_data/annotations/91581919.json  \n",
            "  inflating: dataset/training_data/annotations/82254638.json  \n",
            "  inflating: dataset/training_data/annotations/716552.json  \n",
            "  inflating: dataset/training_data/annotations/12052385.json  \n",
            "  inflating: dataset/training_data/annotations/71108371.json  \n",
            "  inflating: dataset/training_data/annotations/93213298.json  \n",
            "  inflating: dataset/training_data/annotations/71601299.json  \n",
            "  inflating: dataset/training_data/annotations/0011838621.json  \n",
            "  inflating: dataset/training_data/annotations/71563825.json  \n",
            "  inflating: dataset/training_data/annotations/0060262650.json  \n",
            "  inflating: dataset/training_data/annotations/0060165115.json  \n",
            "  inflating: dataset/training_data/annotations/0011859695.json  \n",
            "  inflating: dataset/training_data/annotations/0071032790.json  \n",
            "  inflating: dataset/training_data/.DS_Store  \n",
            "  inflating: dataset/bertembeddingfornull.json  \n",
            "  inflating: dataset/testing_data/annotations/82092117.json  \n",
            "  inflating: dataset/testing_data/annotations/82491256.json  \n",
            "  inflating: dataset/testing_data/annotations/82200067_0069.json  \n",
            "  inflating: dataset/testing_data/annotations/87332450.json  \n",
            "  inflating: dataset/testing_data/annotations/83641919_1921.json  \n",
            "  inflating: dataset/testing_data/annotations/83594639.json  \n",
            "  inflating: dataset/testing_data/annotations/93106788.json  \n",
            "  inflating: dataset/testing_data/annotations/82250337_0338.json  \n",
            "  inflating: dataset/testing_data/annotations/82253058_3059.json  \n",
            "  inflating: dataset/testing_data/annotations/83573282.json  \n",
            "  inflating: dataset/testing_data/annotations/82252956_2958.json  \n",
            "  inflating: dataset/testing_data/annotations/82573104.json  \n",
            "  inflating: dataset/testing_data/annotations/83553333_3334.json  \n",
            "  inflating: dataset/testing_data/annotations/82253245_3247.json  \n",
            "  inflating: dataset/testing_data/annotations/91814768_91814769.json  \n",
            "  inflating: dataset/testing_data/annotations/87086073.json  \n",
            "  inflating: dataset/testing_data/annotations/83996357.json  \n",
            "  inflating: dataset/testing_data/annotations/82504862.json  \n",
            "  inflating: dataset/testing_data/annotations/86244113.json  \n",
            "  inflating: dataset/testing_data/annotations/82253362_3364.json  \n",
            "  inflating: dataset/testing_data/annotations/82251504.json  \n",
            "  inflating: dataset/testing_data/annotations/87137840.json  \n",
            "  inflating: dataset/testing_data/annotations/89856243.json  \n",
            "  inflating: dataset/testing_data/annotations/83823750.json  \n",
            "  inflating: dataset/testing_data/annotations/86075409_5410.json  \n",
            "  inflating: dataset/testing_data/annotations/83635935.json  \n",
            "  inflating: dataset/testing_data/annotations/86220490.json  \n",
            "  inflating: dataset/testing_data/annotations/87093315_87093318.json  \n",
            "  inflating: dataset/testing_data/annotations/86230203_0206.json  \n",
            "  inflating: dataset/testing_data/annotations/82254765.json  \n",
            "  inflating: dataset/testing_data/annotations/83443897.json  \n",
            "  inflating: dataset/testing_data/annotations/92380595.json  \n",
            "  inflating: dataset/testing_data/annotations/85540866.json  \n",
            "  inflating: dataset/testing_data/annotations/85240939.json  \n",
            "  inflating: dataset/testing_data/annotations/87428306.json  \n",
            "  inflating: dataset/testing_data/annotations/85201976.json  \n",
            "  inflating: dataset/testing_data/annotations/87528380.json  \n",
            "  inflating: dataset/testing_data/annotations/86328049_8050.json  \n",
            "  inflating: dataset/testing_data/annotations/87594142_87594144.json  \n",
            "  inflating: dataset/testing_data/annotations/85629964.json  \n",
            "  inflating: dataset/testing_data/annotations/86236474_6476.json  \n",
            "  inflating: dataset/testing_data/annotations/82562350.json  \n",
            "  inflating: dataset/testing_data/annotations/87147607.json  \n",
            "  inflating: dataset/testing_data/annotations/86079776_9777.json  \n",
            "  inflating: dataset/testing_data/annotations/87528321.json  \n",
            "  inflating: dataset/testing_data/annotations/86263525.json  \n",
            "  inflating: dataset/testing_data/annotations/83772145.json  \n",
            "  inflating: dataset/testing_data/annotations/87125460.json  \n",
            "  inflating: dataset/testing_data/annotations/83624198.json  \n",
            "  inflating: dataset/testing_data/annotations/82837252.json  \n",
            "  inflating: dataset/testing_data/images/86079776_9777.png  \n",
            "  inflating: dataset/testing_data/images/83996357.png  \n",
            "  inflating: dataset/testing_data/images/87137840.png  \n",
            "  inflating: dataset/testing_data/images/82253245_3247.png  \n",
            "  inflating: dataset/testing_data/images/82491256.png  \n",
            "  inflating: dataset/testing_data/images/87528380.png  \n",
            "  inflating: dataset/testing_data/images/92380595.png  \n",
            "  inflating: dataset/testing_data/images/82562350.png  \n",
            "  inflating: dataset/testing_data/images/82573104.png  \n",
            "  inflating: dataset/testing_data/images/83635935.png  \n",
            "  inflating: dataset/testing_data/images/82253362_3364.png  \n",
            "  inflating: dataset/testing_data/images/83553333_3334.png  \n",
            "  inflating: dataset/testing_data/images/83624198.png  \n",
            "  inflating: dataset/testing_data/images/86236474_6476.png  \n",
            "  inflating: dataset/testing_data/images/93106788.png  \n",
            "  inflating: dataset/testing_data/images/82254765.png  \n",
            "  inflating: dataset/testing_data/images/85201976.png  \n",
            "  inflating: dataset/testing_data/images/87594142_87594144.png  \n",
            "  inflating: dataset/testing_data/images/87428306.png  \n",
            "  inflating: dataset/testing_data/images/83823750.png  \n",
            "  inflating: dataset/testing_data/images/82200067_0069.png  \n",
            "  inflating: dataset/testing_data/images/83573282.png  \n",
            "  inflating: dataset/testing_data/images/83641919_1921.png  \n",
            "  inflating: dataset/testing_data/images/82253058_3059.png  \n",
            "  inflating: dataset/testing_data/images/87528321.png  \n",
            "  inflating: dataset/testing_data/images/83443897.png  \n",
            "  inflating: dataset/testing_data/images/82250337_0338.png  \n",
            "  inflating: dataset/testing_data/images/86244113.png  \n",
            "  inflating: dataset/testing_data/images/86328049_8050.png  \n",
            "  inflating: dataset/testing_data/images/86220490.png  \n",
            "  inflating: dataset/testing_data/images/87086073.png  \n",
            "  inflating: dataset/testing_data/images/91814768_91814769.png  \n",
            "  inflating: dataset/testing_data/images/87147607.png  \n",
            "  inflating: dataset/testing_data/images/87125460.png  \n",
            "  inflating: dataset/testing_data/images/87093315_87093318.png  \n",
            "  inflating: dataset/testing_data/images/86075409_5410.png  \n",
            "  inflating: dataset/testing_data/images/85240939.png  \n",
            "  inflating: dataset/testing_data/images/85629964.png  \n",
            "  inflating: dataset/testing_data/images/89856243.png  \n",
            "  inflating: dataset/testing_data/images/86263525.png  \n",
            "  inflating: dataset/testing_data/images/82251504.png  \n",
            "  inflating: dataset/testing_data/images/87332450.png  \n",
            "  inflating: dataset/testing_data/images/82837252.png  \n",
            "  inflating: dataset/testing_data/images/83772145.png  \n",
            "  inflating: dataset/testing_data/images/86230203_0206.png  \n",
            "  inflating: dataset/testing_data/images/82504862.png  \n",
            "  inflating: dataset/testing_data/images/85540866.png  \n",
            "  inflating: dataset/testing_data/images/83594639.png  \n",
            "  inflating: dataset/testing_data/images/82252956_2958.png  \n",
            "  inflating: dataset/testing_data/images/82092117.png  \n",
            "  inflating: dataset/testing_data/.DS_Store  \n",
            "  inflating: dataset/testing_data/changed/82092117.json  \n",
            "  inflating: dataset/testing_data/changed/82200067_0069.json  \n",
            "  inflating: dataset/testing_data/changed/82250337_0338.json  \n",
            "  inflating: dataset/testing_data/changed/82251504.json  \n",
            "  inflating: dataset/testing_data/changed/82252956_2958.json  \n",
            "  inflating: dataset/testing_data/changed/82253058_3059.json  \n",
            "  inflating: dataset/testing_data/changed/82253245_3247.json  \n",
            "  inflating: dataset/testing_data/changed/82253362_3364.json  \n",
            "  inflating: dataset/testing_data/changed/82254765.json  \n",
            "  inflating: dataset/testing_data/changed/82491256.json  \n",
            "  inflating: dataset/testing_data/changed/82504862.json  \n",
            "  inflating: dataset/testing_data/changed/82562350.json  \n",
            "  inflating: dataset/testing_data/changed/82573104.json  \n",
            "  inflating: dataset/testing_data/changed/82837252.json  \n",
            "  inflating: dataset/testing_data/changed/83443897.json  \n",
            "  inflating: dataset/testing_data/changed/83553333_3334.json  \n",
            "  inflating: dataset/testing_data/changed/83573282.json  \n",
            "  inflating: dataset/testing_data/changed/83594639.json  \n",
            "  inflating: dataset/testing_data/changed/83624198.json  \n",
            "  inflating: dataset/testing_data/changed/83635935.json  \n",
            "  inflating: dataset/testing_data/changed/83641919_1921.json  \n",
            "  inflating: dataset/testing_data/changed/83772145.json  \n",
            "  inflating: dataset/testing_data/changed/83823750.json  \n",
            "  inflating: dataset/testing_data/changed/83996357.json  \n",
            "  inflating: dataset/testing_data/changed/85201976.json  \n",
            "  inflating: dataset/testing_data/changed/85240939.json  \n",
            "  inflating: dataset/testing_data/changed/85540866.json  \n",
            "  inflating: dataset/testing_data/changed/85629964.json  \n",
            "  inflating: dataset/testing_data/changed/86075409_5410.json  \n",
            "  inflating: dataset/testing_data/changed/86079776_9777.json  \n",
            "  inflating: dataset/testing_data/changed/86220490.json  \n",
            "  inflating: dataset/testing_data/changed/86230203_0206.json  \n",
            "  inflating: dataset/testing_data/changed/86236474_6476.json  \n",
            "  inflating: dataset/testing_data/changed/86244113.json  \n",
            "  inflating: dataset/testing_data/changed/86263525.json  \n",
            "  inflating: dataset/testing_data/changed/86328049_8050.json  \n",
            "  inflating: dataset/testing_data/changed/87086073.json  \n",
            "  inflating: dataset/testing_data/changed/87093315_87093318.json  \n",
            "  inflating: dataset/testing_data/changed/87125460.json  \n",
            "  inflating: dataset/testing_data/changed/87137840.json  \n",
            "  inflating: dataset/testing_data/changed/87147607.json  \n",
            "  inflating: dataset/testing_data/changed/87332450.json  \n",
            "  inflating: dataset/testing_data/changed/87428306.json  \n",
            "  inflating: dataset/testing_data/changed/87528321.json  \n",
            "  inflating: dataset/testing_data/changed/87528380.json  \n",
            "  inflating: dataset/testing_data/changed/87594142_87594144.json  \n",
            "  inflating: dataset/testing_data/changed/89856243.json  \n",
            "  inflating: dataset/testing_data/changed/91814768_91814769.json  \n",
            "  inflating: dataset/testing_data/changed/92380595.json  \n",
            "  inflating: dataset/testing_data/changed/93106788.json  \n",
            "  inflating: dataset/.DS_Store       \n"
          ]
        }
      ],
      "source": [
        "# !unzip gdrive/MyDrive/datasetLMv2LayoutLMv4.zip\n",
        "!unzip /content/dataset.zip"
      ]
    },
    {
      "cell_type": "markdown",
      "metadata": {
        "id": "9QsgbxZFJgpc"
      },
      "source": [
        "# New Section"
      ]
    },
    {
      "cell_type": "code",
      "execution_count": null,
      "metadata": {
        "colab": {
          "base_uri": "https://localhost:8080/"
        },
        "id": "JP1_N-2ZNpTg",
        "outputId": "30821347-e277-47ee-f2f1-227673519b51"
      },
      "outputs": [
        {
          "output_type": "stream",
          "name": "stdout",
          "text": [
            "Requirement already satisfied: timm in /usr/local/lib/python3.7/dist-packages (0.5.4)\n",
            "Requirement already satisfied: torchvision in /usr/local/lib/python3.7/dist-packages (from timm) (0.9.0+cu101)\n",
            "Requirement already satisfied: torch>=1.4 in /usr/local/lib/python3.7/dist-packages (from timm) (1.8.0+cu101)\n",
            "Requirement already satisfied: typing-extensions in /usr/local/lib/python3.7/dist-packages (from torch>=1.4->timm) (3.10.0.2)\n",
            "Requirement already satisfied: numpy in /usr/local/lib/python3.7/dist-packages (from torch>=1.4->timm) (1.19.5)\n",
            "Requirement already satisfied: pillow>=4.1.1 in /usr/local/lib/python3.7/dist-packages (from torchvision->timm) (7.1.2)\n"
          ]
        }
      ],
      "source": [
        "!pip install timm"
      ]
    },
    {
      "cell_type": "code",
      "execution_count": null,
      "metadata": {
        "colab": {
          "base_uri": "https://localhost:8080/"
        },
        "id": "MGXJPAUKjb95",
        "outputId": "6ce88060-2424-4549-96de-48d09b48df95"
      },
      "outputs": [
        {
          "output_type": "execute_result",
          "data": {
            "text/plain": [
              "{'B-ANSWER': 5,\n",
              " 'B-HEADER': 1,\n",
              " 'B-QUESTION': 3,\n",
              " 'I-ANSWER': 6,\n",
              " 'I-HEADER': 2,\n",
              " 'I-QUESTION': 4,\n",
              " 'O': 0}"
            ]
          },
          "metadata": {},
          "execution_count": 10
        }
      ],
      "source": [
        "import pandas as pd\n",
        "import os\n",
        "dirpath=\"/content/dataset\"\n",
        "dataset_path_train = \"/content/dataset/training_data/images\"\n",
        "dataset_path_test = \"/content/dataset/testing_data/images\"\n",
        "labels = ['O', 'B-HEADER', 'I-HEADER', 'B-QUESTION', 'I-QUESTION', 'B-ANSWER', 'I-ANSWER']\n",
        "idx2label = {v: k for v, k in enumerate(labels)}\n",
        "label2idx = {k: v for v, k in enumerate(labels)}\n",
        "label2idx"
      ]
    },
    {
      "cell_type": "code",
      "execution_count": null,
      "metadata": {
        "id": "DNIejwxXjcCL"
      },
      "outputs": [],
      "source": [
        "def create_img_path(dataset_path):\n",
        "    images_train = []\n",
        "    dataset_fldr= dataset_path.split(\"/\")[-2]\n",
        "    for label_folder, _, file_names in os.walk(dataset_path):\n",
        "      \n",
        "      for _, _, image_names in os.walk(label_folder):\n",
        "          #print(dataset_fldr)\n",
        "          relative_image_names = []\n",
        "          for image in image_names:\n",
        "            relative_image_names.append( dirpath + \"/\"+dataset_fldr+'/images/'+ image)\n",
        "          images_train.extend(relative_image_names)\n",
        "          #print(relative_image_names)\n",
        "    return images_train\n",
        "\n",
        "image_path = create_img_path(dataset_path_train)\n",
        "traindata_ = pd.DataFrame.from_dict({'image_path': image_path})\n",
        "\n",
        "\n",
        "\n",
        "\n",
        "image_path = create_img_path(dataset_path_test)\n",
        "testdata_ = pd.DataFrame.from_dict({'image_path': image_path})\n"
      ]
    },
    {
      "cell_type": "code",
      "execution_count": null,
      "metadata": {
        "id": "6Rh59jhYhemF"
      },
      "outputs": [],
      "source": [
        "#testdata_"
      ]
    },
    {
      "cell_type": "code",
      "execution_count": null,
      "metadata": {
        "id": "AL1mTktBjcG5"
      },
      "outputs": [],
      "source": [
        "import os\n",
        "import json\n",
        "from datasets import Dataset\n",
        "from PIL import Image, ImageDraw, ImageFont\n",
        "dirpath=\"/content/dataset\"\n",
        "def generate_examples(example):\n",
        "        path = example['image_path']\n",
        "        image = Image.open(path)\n",
        "        w,h = image.size\n",
        "        filename = path.split('/')[-1]\n",
        "        filename = filename.split('.')[0]\n",
        "        datdir=path.split('/')[-3]\n",
        "        #print(datdir)\n",
        "        f = open(dirpath + '/' + datdir + '/changed/'+ filename + '.json')\n",
        "        data = json.load(f)\n",
        "        words = []\n",
        "        boxes = []\n",
        "        neighbors = []\n",
        "        labels = []\n",
        "        #print(data)\n",
        "        for i in data:\n",
        "          words.append(i['text'])\n",
        "          unnormalized_box = i['box']\n",
        "          normalized_box = unnormalized_box\n",
        "          # if(i['text'] not in words_dictionary):\n",
        "          #   global id\n",
        "          #   words_dictionary[str(i['text'])] = id\n",
        "          #   box_dictionary[id] = normalized_box\n",
        "          #   id+=1\n",
        "          boxes.append(normalized_box)\n",
        "          neighbors.append(i['neighbors'])\n",
        "          labels.append(label2idx[i['label']])\n",
        "        # normalize the bounding boxes\n",
        "        # add as extra columns \n",
        "        assert len(words) == len(boxes)\n",
        "        example['words'] = words\n",
        "        example['bbox'] = boxes\n",
        "\n",
        "        example['neighbors'] = neighbors\n",
        "        example['labels'] = labels\n",
        "        return example"
      ]
    },
    {
      "cell_type": "code",
      "execution_count": null,
      "metadata": {
        "colab": {
          "base_uri": "https://localhost:8080/",
          "height": 81,
          "referenced_widgets": [
            "92e3fdc73e6941a999307523609f663e",
            "ccaa8a0736a8447085acbe739a306c7e",
            "0651d78037084162a9d9fb411136c0c8",
            "41e5cb4261dc48ffb39140165659a317",
            "43583f96f19d48e0a485c2af558b6ec0",
            "7604e656c5024e57a5c5ea5ea1aeaacb",
            "9b95acbb7e374df685ea7c31ec6fadcc",
            "97ea247a61b64f168c7bafe3e51416b0",
            "029712232a35468398e2495c3b9ca124",
            "9f79f6416873497fb9c6066d379ef768",
            "6663e2df4b6043abb4bc128fb175f487",
            "d62ee0f15d964f6393f4f5c9c5be2526",
            "13fca60bb4914a2196f6e7def7985b04",
            "32662aac31914c72b9bec4d1bfa520ef",
            "fd578bc33f2442d8ac15009cbb913a33",
            "a6659474c28f47dbbf69e9a422aff9a2",
            "7bf02965137e4e18a2fb7d5c7133b9eb",
            "b81b265c9cfa471186b5de11221754d9",
            "b42fcb8b3ec044ad98f22766c2faee07",
            "35a99a26fd4842ebb416390322803c73",
            "c40343d4f873451c94ab3f0aafeb7089",
            "9bf1681daee143d4befff047970cbcaa"
          ]
        },
        "id": "4siEczV2hfjZ",
        "outputId": "192a4ecd-9fc8-4951-f821-9f6a40d4d4ca"
      },
      "outputs": [
        {
          "output_type": "display_data",
          "data": {
            "application/vnd.jupyter.widget-view+json": {
              "model_id": "92e3fdc73e6941a999307523609f663e",
              "version_minor": 0,
              "version_major": 2
            },
            "text/plain": [
              "  0%|          | 0/149 [00:00<?, ?ex/s]"
            ]
          },
          "metadata": {}
        },
        {
          "output_type": "display_data",
          "data": {
            "application/vnd.jupyter.widget-view+json": {
              "model_id": "d62ee0f15d964f6393f4f5c9c5be2526",
              "version_minor": 0,
              "version_major": 2
            },
            "text/plain": [
              "  0%|          | 0/50 [00:00<?, ?ex/s]"
            ]
          },
          "metadata": {}
        }
      ],
      "source": [
        "traindata = Dataset.from_pandas(traindata_)\n",
        "train = traindata.map(generate_examples)\n",
        "testdata = Dataset.from_pandas(testdata_)\n",
        "test = testdata.map(generate_examples)"
      ]
    },
    {
      "cell_type": "code",
      "execution_count": null,
      "metadata": {
        "colab": {
          "base_uri": "https://localhost:8080/"
        },
        "id": "PRDi7MyDZI7Z",
        "outputId": "0f4cb71d-f795-4407-a94f-33b350250aa0"
      },
      "outputs": [
        {
          "output_type": "execute_result",
          "data": {
            "text/plain": [
              "(['image_path', 'words', 'bbox', 'neighbors', 'labels'],\n",
              " (50, 5),\n",
              " {'bbox': Sequence(feature=Sequence(feature=Value(dtype='int64', id=None), length=-1, id=None), length=-1, id=None),\n",
              "  'image_path': Value(dtype='string', id=None),\n",
              "  'labels': Sequence(feature=Value(dtype='int64', id=None), length=-1, id=None),\n",
              "  'neighbors': Sequence(feature=Sequence(feature=Sequence(feature=Value(dtype='int64', id=None), length=-1, id=None), length=-1, id=None), length=-1, id=None),\n",
              "  'words': Sequence(feature=Value(dtype='string', id=None), length=-1, id=None)})"
            ]
          },
          "metadata": {},
          "execution_count": 15
        }
      ],
      "source": [
        "test.column_names,test.shape,test.features"
      ]
    },
    {
      "cell_type": "code",
      "execution_count": null,
      "metadata": {
        "colab": {
          "base_uri": "https://localhost:8080/"
        },
        "id": "JGshPOfoRB8d",
        "outputId": "4accfe80-0aea-4a5a-dc53-0be466b8c04e"
      },
      "outputs": [
        {
          "output_type": "execute_result",
          "data": {
            "text/plain": [
              "Dataset({\n",
              "    features: ['image_path', 'words', 'bbox', 'neighbors', 'labels'],\n",
              "    num_rows: 50\n",
              "})"
            ]
          },
          "metadata": {},
          "execution_count": 16
        }
      ],
      "source": [
        "test"
      ]
    },
    {
      "cell_type": "code",
      "execution_count": null,
      "metadata": {
        "id": "U44clfABkHR7"
      },
      "outputs": [],
      "source": [
        "from PIL import Image\n",
        "import numpy as np\n",
        "from transformers import LayoutLMv2Processor\n",
        "from datasets import Features, Sequence, ClassLabel, Value, Array2D, Array3D\n",
        "from torchvision.transforms import ToTensor\n",
        "processor = LayoutLMv2Processor.from_pretrained(\"microsoft/layoutlmv2-base-uncased\", revision=\"no_ocr\")\n",
        "\n",
        "\n",
        "\n",
        "# we need to define custom features\n",
        "features = Features({\n",
        "    'image': Array3D(dtype=\"int64\", shape=(3, 224, 224)),\n",
        "    'labels': Sequence(feature=Value(dtype='int64')),\n",
        "    'bbox': Array2D(dtype=\"int64\", shape=(512, 4)),     \n",
        "   \n",
        "    'input_ids': Sequence(feature=Value(dtype='int64')),\n",
        "    'attention_mask': Sequence(Value(dtype='int64')),\n",
        "    'token_type_ids': Sequence(Value(dtype='int64')),\n",
        "    'neighbors': Sequence(feature=Sequence(feature=Sequence(feature=Value(dtype='int64', id=None), length=-1, id=None), length=-1, id=None), length=-1, id=None)\n",
        "    \n",
        "})\n",
        "\n",
        "\n",
        "\n",
        "\n",
        "def preprocess_data(examples):\n",
        "  #print(examples['image_path'])\n",
        "  path = examples['image_path']\n",
        "  images = Image.open(path).convert(\"RGB\")\n",
        "  words = examples['words']\n",
        "  bbox = examples['bbox']\n",
        "  word_labels = examples['labels']\n",
        "  \n",
        "  encoded_inputs = processor(images, words, boxes=bbox, word_labels=word_labels,\n",
        "                             padding=\"max_length\", truncation=True)\n",
        "  \n",
        "   \n",
        "\n",
        "  #print( len(encoded_inputs['image']))\n",
        "  del examples['words']\n",
        "  del examples['image_path']\n",
        "  #print(len(encoded_inputs['input_ids']))\n",
        "   # get required padding length\n",
        "  pad_len = 512 - len(examples['neighbors'])\n",
        "  token_neighbors = [[[0]*6]*12]*pad_len\n",
        "  #print(token_neighbors)\n",
        "  examples['neighbors'] = examples['neighbors'] + token_neighbors\n",
        "  \n",
        "  dict1 = {'neighbors':list(examples['neighbors'])}\n",
        "  #dict1 = {'neighbors':examples['neighbors']}\n",
        "  encoded_inputs.update(dict1)\n",
        "  encoded_inputs[\"image\"] = np.array(encoded_inputs[\"image\"])\n",
        "  \n",
        "\n",
        "\n",
        "\n",
        "  \n",
        "  \n",
        "  return encoded_inputs\n",
        "\n",
        "\n",
        "#test_dataset = test.map(preprocess_data, batched=True, remove_columns=test.column_names,\n",
        "                                      #eatures=features)\n",
        "#train_dataset =train.map(preprocess_data, batched=True, remove_columns=train.column_names,\n",
        "                                      #features=features)\n",
        "\n",
        "\n",
        "\n",
        "\n",
        "#encoded_dataset = train.map(lambda examples: preprocess_data(examples), batched=True)"
      ]
    },
    {
      "cell_type": "code",
      "execution_count": null,
      "metadata": {
        "id": "wPguUrOoR2qE"
      },
      "outputs": [],
      "source": [
        "import torch\n",
        "train_dataset = []\n",
        "for example in train:\n",
        "    #print(example)\n",
        "    processed_example = preprocess_data(example)\n",
        "    example.update(processed_example)\n",
        "    train_dataset.append(example)\n",
        "\n",
        "\n",
        "\n",
        "test_dataset = []\n",
        "for example in test:\n",
        "    #print(example)\n",
        "    processed_example = preprocess_data(example)\n",
        "    example.update(processed_example)\n",
        "    test_dataset.append(example)"
      ]
    },
    {
      "cell_type": "code",
      "source": [
        "#encoding['neighbors'][0][0]"
      ],
      "metadata": {
        "id": "Nk0eW6_gradF"
      },
      "execution_count": null,
      "outputs": []
    },
    {
      "cell_type": "code",
      "execution_count": null,
      "metadata": {
        "colab": {
          "base_uri": "https://localhost:8080/"
        },
        "id": "W-HN6hu_WLwr",
        "outputId": "17134b7c-7981-4144-a32b-9d377b3cb0b4"
      },
      "outputs": [
        {
          "output_type": "stream",
          "name": "stdout",
          "text": [
            "[CLS] town : [SEP] [PAD] [PAD]\n"
          ]
        }
      ],
      "source": [
        "encoding = train_dataset[0]\n",
        "print(processor.tokenizer.decode(encoding['neighbors'][0][0]))"
      ]
    },
    {
      "cell_type": "code",
      "execution_count": null,
      "metadata": {
        "colab": {
          "base_uri": "https://localhost:8080/"
        },
        "id": "JUkZiuql-eBO",
        "outputId": "37e5bf1a-64ee-49d2-b9bc-bc32afbf120f"
      },
      "outputs": [
        {
          "output_type": "execute_result",
          "data": {
            "text/plain": [
              "dict_keys(['bbox', 'neighbors', 'labels', 'input_ids', 'token_type_ids', 'attention_mask', 'image'])"
            ]
          },
          "metadata": {},
          "execution_count": 21
        }
      ],
      "source": [
        "encoding.keys()"
      ]
    },
    {
      "cell_type": "code",
      "execution_count": null,
      "metadata": {
        "colab": {
          "base_uri": "https://localhost:8080/"
        },
        "id": "pCTL14umacmx",
        "outputId": "63c493e7-a631-4318-e160-cfb72df8e66d"
      },
      "outputs": [
        {
          "output_type": "stream",
          "name": "stdout",
          "text": [
            "bbox 512\n",
            "neighbors 512\n",
            "labels 512\n",
            "input_ids 512\n",
            "token_type_ids 512\n",
            "attention_mask 512\n",
            "image 1\n"
          ]
        }
      ],
      "source": [
        "for k,v in encoding.items():\n",
        "  print(k, len(v))\n",
        "#encoding['neighbors']"
      ]
    },
    {
      "cell_type": "code",
      "execution_count": null,
      "metadata": {
        "id": "ioO0wwi-tG0g"
      },
      "outputs": [],
      "source": [
        "from torch.utils.data.dataloader import default_collate\n",
        "from torchvision.transforms import ToTensor\n",
        "def collate_fn(batch):\n",
        "   elem = batch[0]\n",
        "   #print(type(elem))\n",
        "   bbox = [item['bbox'] for item in batch]  # just form a list of tensor\n",
        "   neighbors = [item['neighbors'] for item in batch]\n",
        "   labels = [item['labels'] for item in batch]\n",
        "   input_ids = [item['input_ids'] for item in batch]\n",
        "   token_type_ids = [item['token_type_ids'] for item in batch]\n",
        "   attention_mask = [item['attention_mask'] for item in batch]\n",
        "   image =  [item['image'] for item in batch][0]\n",
        "   elem= {'bbox' : torch.tensor(bbox), 'neighbors':torch.tensor(neighbors),'labels':torch.Tensor(labels),'input_ids':torch.Tensor(input_ids),'token_type_ids':torch.Tensor(token_type_ids),'attention_mask':torch.Tensor(attention_mask),'image':torch.Tensor(image)}\n",
        "   #return dict(bbox = bbox, neighbors=neighbors,labels=labels,input_ids=input_ids,token_type_ids=token_type_ids,attention_mask=attention_mask,image=image)\n",
        "   #transposed = zip(*batch)\n",
        "   #return [default_collate(samples) for samples in transposed]\n",
        "   return elem"
      ]
    },
    {
      "cell_type": "code",
      "execution_count": null,
      "metadata": {
        "id": "7VnXC1P47yan"
      },
      "outputs": [],
      "source": [
        "from torch.utils.data import DataLoader\n",
        "\n",
        "train_dataloader = DataLoader(train_dataset, batch_size=8, shuffle=True, num_workers=0,  collate_fn=collate_fn)\n",
        "test_dataloader = DataLoader(test_dataset, batch_size=8,shuffle=True, num_workers=0,  collate_fn=collate_fn)"
      ]
    },
    {
      "cell_type": "code",
      "execution_count": null,
      "metadata": {
        "colab": {
          "base_uri": "https://localhost:8080/"
        },
        "id": "zDzsmaESWAoM",
        "outputId": "9a0551bb-0732-4013-e0e4-37b170541921"
      },
      "outputs": [
        {
          "output_type": "stream",
          "name": "stdout",
          "text": [
            "bbox <class 'torch.Tensor'>\n",
            "neighbors <class 'torch.Tensor'>\n",
            "labels <class 'torch.Tensor'>\n",
            "input_ids <class 'torch.Tensor'>\n",
            "token_type_ids <class 'torch.Tensor'>\n",
            "attention_mask <class 'torch.Tensor'>\n",
            "image <class 'torch.Tensor'>\n"
          ]
        }
      ],
      "source": [
        "batch = next(iter(train_dataloader))\n",
        "\n",
        "for k ,v in batch.items():\n",
        "    print(k,type(v))\n"
      ]
    },
    {
      "cell_type": "code",
      "execution_count": null,
      "metadata": {
        "colab": {
          "base_uri": "https://localhost:8080/"
        },
        "id": "kkzTNbJ-4lAk",
        "outputId": "cbde4186-def7-4b93-f42a-8a5883adf288"
      },
      "outputs": [
        {
          "output_type": "stream",
          "name": "stdout",
          "text": [
            "bbox torch.Size([8, 512, 4])\n",
            "neighbors torch.Size([8, 512, 12, 6])\n",
            "labels torch.Size([8, 512])\n",
            "input_ids torch.Size([8, 512])\n",
            "token_type_ids torch.Size([8, 512])\n",
            "attention_mask torch.Size([8, 512])\n",
            "image torch.Size([1, 3, 224, 224])\n"
          ]
        }
      ],
      "source": [
        "for k,v in batch.items():\n",
        "  print(k, batch[k].shape)"
      ]
    },
    {
      "cell_type": "code",
      "execution_count": null,
      "metadata": {
        "id": "Xx0-6sAnOYO_"
      },
      "outputs": [],
      "source": [
        "import torch\n",
        "device = torch.device('cuda')"
      ]
    },
    {
      "cell_type": "code",
      "execution_count": null,
      "metadata": {
        "colab": {
          "base_uri": "https://localhost:8080/"
        },
        "id": "hnLHnP4tOaCS",
        "outputId": "2e2784a4-348b-48f0-dc7d-43b0a5de9e1a"
      },
      "outputs": [
        {
          "output_type": "stream",
          "name": "stdout",
          "text": [
            "Requirement already satisfied: pytorch-nlp in /usr/local/lib/python3.7/dist-packages (0.5.0)\n",
            "Requirement already satisfied: tqdm in /usr/local/lib/python3.7/dist-packages (from pytorch-nlp) (4.62.3)\n",
            "Requirement already satisfied: numpy in /usr/local/lib/python3.7/dist-packages (from pytorch-nlp) (1.19.5)\n"
          ]
        }
      ],
      "source": [
        "pip install pytorch-nlp"
      ]
    },
    {
      "cell_type": "code",
      "execution_count": null,
      "metadata": {
        "id": "xVM76kCi5eMC"
      },
      "outputs": [],
      "source": [
        "import torch.nn as nn\n",
        "from transformers import LayoutLMv2Model\n",
        "from transformers.models.layoutlm import LayoutLMConfig\n",
        "from transformers.modeling_outputs import TokenClassifierOutput\n",
        "import torchvision\n",
        "from torchvision.ops import RoIAlign\n",
        "import torch\n",
        "import numpy as np\n",
        "from transformers import LayoutLMv2Tokenizer\n",
        "from torchnlp.nn import Attention\n",
        "import time "
      ]
    },
    {
      "cell_type": "code",
      "execution_count": null,
      "metadata": {
        "id": "w62Le1ZmCKlT"
      },
      "outputs": [],
      "source": [
        "\n",
        "\n",
        "class LayoutLMv2ForTokenClassification(nn.Module):\n",
        "    def __init__(self): \n",
        "        super().__init__()\n",
        "        self.start_time = time.time()\n",
        "        # LayoutLM base model + token classifier\n",
        "        self.num_labels = len(label2idx)\n",
        "        self.layoutlm = LayoutLMv2Model.from_pretrained(\"microsoft/layoutlmv2-base-uncased\", num_labels=self.num_labels)\n",
        "        \n",
        "        self.mlp = nn.Linear(13*768,12*768)\n",
        "        self.sigmoid = nn.Sigmoid()\n",
        "        self.attn = Attention(768)\n",
        "\n",
        "        self.dropout = nn.Dropout(self.layoutlm.config.hidden_dropout_prob)\n",
        "        self.classifier = nn.Linear(2*768, self.num_labels)\n",
        "\n",
        "    def forward(self,image,input_ids,bbox,attention_mask,token_type_ids,neighbors,inputs_embeds=None,position_ids=None,head_mask=None,\n",
        "        labels=None,output_attentions=None,output_hidden_states=None,return_dict=None,):\n",
        "        r\"\"\"\n",
        "        labels (:obj:`torch.LongTensor` of shape :obj:`(batch_size, sequence_length)`, `optional`):\n",
        "            Labels for computing the token classification loss. Indices should be in ``[0, ..., config.num_labels -\n",
        "            1]``.\n",
        "\n",
        "        \"\"\"\n",
        "        return_dict = return_dict if return_dict is not None else self.layoutlm.config.use_return_dict\n",
        "        # print('layoutlm Start',time.time()-self.start_time)\n",
        "        # first, forward pass on LayoutLM\n",
        "        tokenizer = LayoutLMv2Tokenizer.from_pretrained(\"microsoft/layoutlmv2-base-uncased\", revision=\"no_ocr\")\n",
        "        outputs = self.layoutlm(\n",
        "            image=image,\n",
        "            input_ids=input_ids,\n",
        "            bbox=bbox,\n",
        "            attention_mask=attention_mask,\n",
        "            token_type_ids=token_type_ids,\n",
        "            position_ids=position_ids,\n",
        "            head_mask=head_mask,\n",
        "            inputs_embeds = inputs_embeds,\n",
        "            output_attentions=output_attentions,\n",
        "            output_hidden_states=output_hidden_states,\n",
        "            return_dict=return_dict,\n",
        "        )\n",
        "        # print('layoutlm End',time.time()-self.start_time)\n",
        "        # print(self.layoutlm.config.hidden_size)\n",
        "        if input_ids is not None:\n",
        "            input_shape = input_ids.size()\n",
        "        else:\n",
        "            input_shape = inputs_embeds.size()[:-1]\n",
        "\n",
        "        seq_length = input_shape[1]\n",
        "\n",
        "        sequence_output = outputs[0][:, :seq_length]\n",
        "        dictionary = {}\n",
        "        batchsize = sequence_output.shape[0]\n",
        "\n",
        "        final_neighbors = []\n",
        "        # print('Making Neighbours',time.time()-self.start_time)\n",
        "        for batch in range(batchsize):\n",
        "          for i in range(512):\n",
        "            dictionary[int(input_ids[batch][i])] = sequence_output[batch][i]\n",
        "            \n",
        "          l = []\n",
        "          for i in range(512):\n",
        "            # for n in neighbors[batch]:\n",
        "            temp = []\n",
        "            temp = torch.Tensor(temp).to(device)  \n",
        "            for j in range(12):\n",
        "              word_tokens = neighbors[batch][i][j]\n",
        "              #print(word_tokens[0])\n",
        "              embed = torch.zeros(768).to(device)\n",
        "              for w in word_tokens:\n",
        "                if(w.item() in dictionary):\n",
        "                  x=w.cpu().detach().numpy()                  \n",
        "                  x=int(x)                  \n",
        "                  dictionary[x] =dictionary[x].cuda()\n",
        "                  embed = torch.add(embed,dictionary[x])\n",
        "                else:\n",
        "                  embed = torch.add(embed,torch.zeros(768).to(device))\n",
        "              temp = torch.cat((temp,embed),0)\n",
        "              # print('temp',temp.shape)\n",
        "              # temp = torch.stack(temp)\n",
        "            l.append(temp)\n",
        "          l = torch.stack(l)\n",
        "          final_neighbors.append(l)\n",
        "        final_neighbors = torch.stack(final_neighbors)\n",
        "        # print('final_neighbors',final_neighbors.shape)\n",
        "        neighbors = final_neighbors.to(device)\n",
        "        # print('Neighbours Made',time.time()-self.start_time)\n",
        "        # print(neighbors.shape)\n",
        "        # print('Gating and Attention Start',time.time()-self.start_time)\n",
        "        final_output = []\n",
        "        batchsize = sequence_output.shape[0]\n",
        "        for i in range(batchsize): \n",
        "          temp = []\n",
        "          for row,n in zip(sequence_output[i],neighbors[i]):\n",
        "            # print(row.shape,n.shape)\n",
        "            rij = torch.cat((row,n),0)\n",
        "            # print(row.shape)\n",
        "            wr = self.mlp(rij)\n",
        "            # print(wr.shape)\n",
        "            g = self.sigmoid(wr)\n",
        "            # print(g.shape)\n",
        "            c_dash = torch.mul(g,n)\n",
        "            # print(c_dash.shape)\n",
        "            c_dash = torch.reshape(c_dash,(12,768))\n",
        "            c_dash = c_dash.unsqueeze(0)\n",
        "            row = row.unsqueeze(0)\n",
        "            row = row.unsqueeze(0)\n",
        "            # print(row.shape)\n",
        "            # print(c_dash.shape)\n",
        "            output,weights = self.attn(row,c_dash)\n",
        "            temp.append(output[0][0])\n",
        "          temp = torch.stack(temp)\n",
        "          # temp = .unsqueeze(0)\n",
        "          # print(final_output.shape)\n",
        "          final_output.append(temp)\n",
        "        final_output = torch.stack(final_output)\n",
        "        final_output = torch.cat((sequence_output,final_output),2)\n",
        "        # print('Gating And Attention End',time.time()-self.start_time)\n",
        "        # print(final_output.shape)\n",
        "        # print('Classification Start',time.time()-self.start_time)\n",
        "        final_output = self.dropout(final_output)\n",
        "        logits = self.classifier(final_output)\n",
        "        # attention_mask = torch.cat((attention_mask,attention_mask),1)\n",
        "        # labels = torch.cat((labels,labels),1)\n",
        "        loss = None\n",
        "        if labels is not None:\n",
        "            loss_fct = nn.CrossEntropyLoss()\n",
        "            if attention_mask is not None:\n",
        "                active_loss = attention_mask.view(-1) == 1\n",
        "                active_logits = logits.view(-1, self.num_labels)[active_loss]\n",
        "                active_labels = labels.view(-1)[active_loss]\n",
        "                loss = loss_fct(active_logits, active_labels)\n",
        "            else:\n",
        "                loss = loss_fct(logits.view(-1, self.num_labels), labels.view(-1))\n",
        "\n",
        "        if not return_dict:\n",
        "            output = (logits,) + outputs[2:]\n",
        "            return ((loss,) + output) if loss is not None else output\n",
        "        # print('Classification End',time.time()-self.start_time)\n",
        "        return TokenClassifierOutput(\n",
        "            loss=loss,\n",
        "            logits=logits,\n",
        "            hidden_states=outputs.hidden_states,\n",
        "            attentions=outputs.attentions,\n",
        "        )"
      ]
    },
    {
      "cell_type": "code",
      "execution_count": null,
      "metadata": {
        "colab": {
          "base_uri": "https://localhost:8080/"
        },
        "id": "Ws86it5XgNVp",
        "outputId": "9a382ff1-6488-4e82-e00f-4ccd19a57c4e"
      },
      "outputs": [
        {
          "output_type": "execute_result",
          "data": {
            "text/plain": [
              "dict_keys(['bbox', 'neighbors', 'labels', 'input_ids', 'token_type_ids', 'attention_mask', 'image'])"
            ]
          },
          "metadata": {},
          "execution_count": 31
        }
      ],
      "source": [
        "batch.keys()"
      ]
    },
    {
      "cell_type": "code",
      "execution_count": null,
      "metadata": {
        "colab": {
          "base_uri": "https://localhost:8080/"
        },
        "id": "I0cdej3vdo8Z",
        "outputId": "cab47e6f-5692-4637-df93-b96fa2949fe8"
      },
      "outputs": [
        {
          "output_type": "execute_result",
          "data": {
            "text/plain": [
              "torch.Size([512])"
            ]
          },
          "metadata": {},
          "execution_count": 32
        }
      ],
      "source": [
        "batch['input_ids'][0].shape\n"
      ]
    },
    {
      "cell_type": "code",
      "execution_count": null,
      "metadata": {
        "id": "WkwuiHSfCKha"
      },
      "outputs": [],
      "source": [
        "from transformers import AdamW\n",
        "import torch\n",
        "from tqdm.notebook import tqdm"
      ]
    },
    {
      "cell_type": "code",
      "execution_count": null,
      "metadata": {
        "colab": {
          "base_uri": "https://localhost:8080/",
          "height": 554,
          "referenced_widgets": [
            "80942028215b486a8038b60a398b0645",
            "f0910bdca8f24ed3afe665f1f82c4a26",
            "9de30d00f8b84c0db18d3df4a8980855",
            "50c6d926a4934395a3d30351107577ac",
            "0e35fa77377c41a8884d50698575b460",
            "7b39e29eba094c9d818897193790db32",
            "a7c4a48480054f38aea69a204d6b0733",
            "8be092ee910347f49d056290240d02ae",
            "da911b870ff64b089f21bb5b1b805cac",
            "b42cb9bad4444f49bd613314e9da2c04",
            "7f3f16a84f89401cbb36bd5678b5e6ee"
          ]
        },
        "id": "Ei0mLM6RCKdu",
        "outputId": "52be8ade-7d7d-444e-c75b-ec45d62afd81"
      },
      "outputs": [
        {
          "output_type": "stream",
          "name": "stderr",
          "text": [
            "Some weights of the model checkpoint at microsoft/layoutlmv2-base-uncased were not used when initializing LayoutLMv2Model: ['layoutlmv2.visual.backbone.bottom_up.res4.7.conv3.norm.num_batches_tracked', 'layoutlmv2.visual.backbone.bottom_up.res5.0.conv1.norm.num_batches_tracked', 'layoutlmv2.visual.backbone.bottom_up.res3.0.shortcut.norm.num_batches_tracked', 'layoutlmv2.visual.backbone.bottom_up.res4.9.conv2.norm.num_batches_tracked', 'layoutlmv2.visual.backbone.bottom_up.res5.0.conv2.norm.num_batches_tracked', 'layoutlmv2.visual.backbone.bottom_up.res4.11.conv1.norm.num_batches_tracked', 'layoutlmv2.visual.backbone.bottom_up.res4.17.conv1.norm.num_batches_tracked', 'layoutlmv2.visual.backbone.bottom_up.res4.3.conv3.norm.num_batches_tracked', 'layoutlmv2.visual.backbone.bottom_up.res4.20.conv3.norm.num_batches_tracked', 'layoutlmv2.visual.backbone.bottom_up.res4.2.conv3.norm.num_batches_tracked', 'layoutlmv2.visual.backbone.bottom_up.res4.12.conv2.norm.num_batches_tracked', 'layoutlmv2.visual.backbone.bottom_up.res3.1.conv2.norm.num_batches_tracked', 'layoutlmv2.visual.backbone.bottom_up.res4.13.conv1.norm.num_batches_tracked', 'layoutlmv2.visual.backbone.bottom_up.res4.0.shortcut.norm.num_batches_tracked', 'layoutlmv2.visual.backbone.bottom_up.res4.2.conv2.norm.num_batches_tracked', 'layoutlmv2.visual.backbone.bottom_up.res4.22.conv2.norm.num_batches_tracked', 'layoutlmv2.visual.backbone.bottom_up.res4.20.conv2.norm.num_batches_tracked', 'layoutlmv2.visual.backbone.bottom_up.res4.18.conv2.norm.num_batches_tracked', 'layoutlmv2.visual.backbone.bottom_up.res4.10.conv1.norm.num_batches_tracked', 'layoutlmv2.visual.backbone.bottom_up.res4.3.conv1.norm.num_batches_tracked', 'layoutlmv2.visual.backbone.bottom_up.res4.19.conv3.norm.num_batches_tracked', 'layoutlmv2.visual.backbone.bottom_up.res3.0.conv1.norm.num_batches_tracked', 'layoutlmv2.visual.backbone.bottom_up.res5.2.conv2.norm.num_batches_tracked', 'layoutlmv2.visual.backbone.bottom_up.res3.3.conv2.norm.num_batches_tracked', 'layoutlmv2.visual.backbone.bottom_up.res4.3.conv2.norm.num_batches_tracked', 'layoutlmv2.visual.backbone.bottom_up.res4.1.conv3.norm.num_batches_tracked', 'layoutlmv2.visual.backbone.bottom_up.res4.2.conv1.norm.num_batches_tracked', 'layoutlmv2.visual.backbone.bottom_up.res4.16.conv2.norm.num_batches_tracked', 'layoutlmv2.visual.backbone.bottom_up.res4.1.conv2.norm.num_batches_tracked', 'layoutlmv2.visual.backbone.bottom_up.res2.1.conv3.norm.num_batches_tracked', 'layoutlmv2.visual.backbone.bottom_up.res4.14.conv2.norm.num_batches_tracked', 'layoutlmv2.visual.backbone.bottom_up.res2.0.conv1.norm.num_batches_tracked', 'layoutlmv2.visual.backbone.bottom_up.res2.0.shortcut.norm.num_batches_tracked', 'layoutlmv2.visual.backbone.bottom_up.res2.0.conv3.norm.num_batches_tracked', 'layoutlmv2.visual.backbone.bottom_up.res4.6.conv1.norm.num_batches_tracked', 'layoutlmv2.visual.backbone.bottom_up.res4.10.conv2.norm.num_batches_tracked', 'layoutlmv2.visual.backbone.bottom_up.res5.1.conv1.norm.num_batches_tracked', 'layoutlmv2.visual.backbone.bottom_up.res4.21.conv2.norm.num_batches_tracked', 'layoutlmv2.visual.backbone.bottom_up.res4.14.conv3.norm.num_batches_tracked', 'layoutlmv2.visual.backbone.bottom_up.res3.0.conv3.norm.num_batches_tracked', 'layoutlmv2.visual.backbone.bottom_up.res4.12.conv3.norm.num_batches_tracked', 'layoutlmv2.visual.backbone.bottom_up.res4.7.conv1.norm.num_batches_tracked', 'layoutlmv2.visual.backbone.bottom_up.res5.2.conv1.norm.num_batches_tracked', 'layoutlmv2.visual.backbone.bottom_up.res4.15.conv1.norm.num_batches_tracked', 'layoutlmv2.visual.backbone.bottom_up.res4.16.conv3.norm.num_batches_tracked', 'layoutlmv2.visual.backbone.bottom_up.res4.19.conv2.norm.num_batches_tracked', 'layoutlmv2.visual.backbone.bottom_up.res3.1.conv3.norm.num_batches_tracked', 'layoutlmv2.visual.backbone.bottom_up.res2.1.conv2.norm.num_batches_tracked', 'layoutlmv2.visual.backbone.bottom_up.res4.1.conv1.norm.num_batches_tracked', 'layoutlmv2.visual.backbone.bottom_up.res4.15.conv2.norm.num_batches_tracked', 'layoutlmv2.visual.backbone.bottom_up.res2.0.conv2.norm.num_batches_tracked', 'layoutlmv2.visual.backbone.bottom_up.res4.18.conv1.norm.num_batches_tracked', 'layoutlmv2.visual.backbone.bottom_up.res3.2.conv2.norm.num_batches_tracked', 'layoutlmv2.visual.backbone.bottom_up.res4.9.conv1.norm.num_batches_tracked', 'layoutlmv2.visual.backbone.bottom_up.res2.1.conv1.norm.num_batches_tracked', 'layoutlmv2.visual.backbone.bottom_up.res4.0.conv1.norm.num_batches_tracked', 'layoutlmv2.visual.backbone.bottom_up.res4.5.conv2.norm.num_batches_tracked', 'layoutlmv2.visual.backbone.bottom_up.res4.7.conv2.norm.num_batches_tracked', 'layoutlmv2.visual.backbone.bottom_up.res4.22.conv1.norm.num_batches_tracked', 'layoutlmv2.visual.backbone.bottom_up.res3.2.conv1.norm.num_batches_tracked', 'layoutlmv2.visual.backbone.bottom_up.res4.13.conv3.norm.num_batches_tracked', 'layoutlmv2.visual.backbone.bottom_up.res4.0.conv2.norm.num_batches_tracked', 'layoutlmv2.visual.backbone.bottom_up.res4.18.conv3.norm.num_batches_tracked', 'layoutlmv2.visual.backbone.bottom_up.res4.11.conv3.norm.num_batches_tracked', 'layoutlmv2.visual.backbone.bottom_up.res3.3.conv3.norm.num_batches_tracked', 'layoutlmv2.visual.backbone.bottom_up.res4.5.conv1.norm.num_batches_tracked', 'layoutlmv2.visual.backbone.bottom_up.res3.0.conv2.norm.num_batches_tracked', 'layoutlmv2.visual.backbone.bottom_up.res5.2.conv3.norm.num_batches_tracked', 'layoutlmv2.visual.backbone.bottom_up.res4.0.conv3.norm.num_batches_tracked', 'layoutlmv2.visual.backbone.bottom_up.res4.15.conv3.norm.num_batches_tracked', 'layoutlmv2.visual.backbone.bottom_up.res4.4.conv1.norm.num_batches_tracked', 'layoutlmv2.visual.backbone.bottom_up.res4.8.conv2.norm.num_batches_tracked', 'layoutlmv2.visual.backbone.bottom_up.res4.13.conv2.norm.num_batches_tracked', 'layoutlmv2.visual.backbone.bottom_up.res4.20.conv1.norm.num_batches_tracked', 'layoutlmv2.visual.backbone.bottom_up.res4.5.conv3.norm.num_batches_tracked', 'layoutlmv2.visual.backbone.bottom_up.res4.19.conv1.norm.num_batches_tracked', 'layoutlmv2.visual.backbone.bottom_up.res4.12.conv1.norm.num_batches_tracked', 'layoutlmv2.visual.backbone.bottom_up.res4.16.conv1.norm.num_batches_tracked', 'layoutlmv2.visual.backbone.bottom_up.res2.2.conv3.norm.num_batches_tracked', 'layoutlmv2.visual.backbone.bottom_up.res5.0.shortcut.norm.num_batches_tracked', 'layoutlmv2.visual.backbone.bottom_up.res3.2.conv3.norm.num_batches_tracked', 'layoutlmv2.visual.backbone.bottom_up.res3.1.conv1.norm.num_batches_tracked', 'layoutlmv2.visual.backbone.bottom_up.res2.2.conv2.norm.num_batches_tracked', 'layoutlmv2.visual.backbone.bottom_up.res4.9.conv3.norm.num_batches_tracked', 'layoutlmv2.visual.backbone.bottom_up.res2.2.conv1.norm.num_batches_tracked', 'layoutlmv2.visual.backbone.bottom_up.res4.17.conv2.norm.num_batches_tracked', 'layoutlmv2.visual.backbone.bottom_up.res4.10.conv3.norm.num_batches_tracked', 'layoutlmv2.visual.backbone.bottom_up.res4.8.conv1.norm.num_batches_tracked', 'layoutlmv2.visual.backbone.bottom_up.res4.8.conv3.norm.num_batches_tracked', 'layoutlmv2.visual.backbone.bottom_up.res4.4.conv3.norm.num_batches_tracked', 'layoutlmv2.visual.backbone.bottom_up.res4.6.conv2.norm.num_batches_tracked', 'layoutlmv2.visual.backbone.bottom_up.res5.1.conv2.norm.num_batches_tracked', 'layoutlmv2.visual.backbone.bottom_up.res4.21.conv3.norm.num_batches_tracked', 'layoutlmv2.visual.backbone.bottom_up.res4.14.conv1.norm.num_batches_tracked', 'layoutlmv2.visual.backbone.bottom_up.stem.conv1.norm.num_batches_tracked', 'layoutlmv2.visual.backbone.bottom_up.res4.4.conv2.norm.num_batches_tracked', 'layoutlmv2.visual.backbone.bottom_up.res4.22.conv3.norm.num_batches_tracked', 'layoutlmv2.visual.backbone.bottom_up.res4.21.conv1.norm.num_batches_tracked', 'layoutlmv2.visual.backbone.bottom_up.res5.0.conv3.norm.num_batches_tracked', 'layoutlmv2.visual.backbone.bottom_up.res5.1.conv3.norm.num_batches_tracked', 'layoutlmv2.visual.backbone.bottom_up.res3.3.conv1.norm.num_batches_tracked', 'layoutlmv2.visual.backbone.bottom_up.res4.11.conv2.norm.num_batches_tracked', 'layoutlmv2.visual.backbone.bottom_up.res4.6.conv3.norm.num_batches_tracked', 'layoutlmv2.visual.backbone.bottom_up.res4.17.conv3.norm.num_batches_tracked']\n",
            "- This IS expected if you are initializing LayoutLMv2Model from the checkpoint of a model trained on another task or with another architecture (e.g. initializing a BertForSequenceClassification model from a BertForPreTraining model).\n",
            "- This IS NOT expected if you are initializing LayoutLMv2Model from the checkpoint of a model that you expect to be exactly identical (initializing a BertForSequenceClassification model from a BertForSequenceClassification model).\n"
          ]
        },
        {
          "output_type": "stream",
          "name": "stdout",
          "text": [
            "Epoch: 0\n"
          ]
        },
        {
          "output_type": "display_data",
          "data": {
            "application/vnd.jupyter.widget-view+json": {
              "model_id": "80942028215b486a8038b60a398b0645",
              "version_minor": 0,
              "version_major": 2
            },
            "text/plain": [
              "  0%|          | 0/19 [00:00<?, ?it/s]"
            ]
          },
          "metadata": {}
        },
        {
          "output_type": "error",
          "ename": "KeyboardInterrupt",
          "evalue": "ignored",
          "traceback": [
            "\u001b[0;31m---------------------------------------------------------------------------\u001b[0m",
            "\u001b[0;31mKeyboardInterrupt\u001b[0m                         Traceback (most recent call last)",
            "\u001b[0;32m<ipython-input-34-ed4ef6a3f43f>\u001b[0m in \u001b[0;36m<module>\u001b[0;34m()\u001b[0m\n\u001b[1;32m     48\u001b[0m                       \u001b[0mtoken_type_ids\u001b[0m\u001b[0;34m=\u001b[0m\u001b[0mtoken_type_ids\u001b[0m\u001b[0;34m,\u001b[0m\u001b[0;34m\u001b[0m\u001b[0;34m\u001b[0m\u001b[0m\n\u001b[1;32m     49\u001b[0m                       \u001b[0mimage\u001b[0m\u001b[0;34m=\u001b[0m\u001b[0mimage\u001b[0m\u001b[0;34m,\u001b[0m\u001b[0;34m\u001b[0m\u001b[0;34m\u001b[0m\u001b[0m\n\u001b[0;32m---> 50\u001b[0;31m                       neighbors= neighbors)\n\u001b[0m\u001b[1;32m     51\u001b[0m         \u001b[0;31m# forward + backward + optimize\u001b[0m\u001b[0;34m\u001b[0m\u001b[0;34m\u001b[0m\u001b[0;34m\u001b[0m\u001b[0m\n\u001b[1;32m     52\u001b[0m         \u001b[0;31m# outputs = model(input_ids=input_ids,image=image,bbox=bbox,attention_mask=attention_mask,token)\u001b[0m\u001b[0;34m\u001b[0m\u001b[0;34m\u001b[0m\u001b[0;34m\u001b[0m\u001b[0m\n",
            "\u001b[0;32m/usr/local/lib/python3.7/dist-packages/torch/nn/modules/module.py\u001b[0m in \u001b[0;36m_call_impl\u001b[0;34m(self, *input, **kwargs)\u001b[0m\n\u001b[1;32m    887\u001b[0m             \u001b[0mresult\u001b[0m \u001b[0;34m=\u001b[0m \u001b[0mself\u001b[0m\u001b[0;34m.\u001b[0m\u001b[0m_slow_forward\u001b[0m\u001b[0;34m(\u001b[0m\u001b[0;34m*\u001b[0m\u001b[0minput\u001b[0m\u001b[0;34m,\u001b[0m \u001b[0;34m**\u001b[0m\u001b[0mkwargs\u001b[0m\u001b[0;34m)\u001b[0m\u001b[0;34m\u001b[0m\u001b[0;34m\u001b[0m\u001b[0m\n\u001b[1;32m    888\u001b[0m         \u001b[0;32melse\u001b[0m\u001b[0;34m:\u001b[0m\u001b[0;34m\u001b[0m\u001b[0;34m\u001b[0m\u001b[0m\n\u001b[0;32m--> 889\u001b[0;31m             \u001b[0mresult\u001b[0m \u001b[0;34m=\u001b[0m \u001b[0mself\u001b[0m\u001b[0;34m.\u001b[0m\u001b[0mforward\u001b[0m\u001b[0;34m(\u001b[0m\u001b[0;34m*\u001b[0m\u001b[0minput\u001b[0m\u001b[0;34m,\u001b[0m \u001b[0;34m**\u001b[0m\u001b[0mkwargs\u001b[0m\u001b[0;34m)\u001b[0m\u001b[0;34m\u001b[0m\u001b[0;34m\u001b[0m\u001b[0m\n\u001b[0m\u001b[1;32m    890\u001b[0m         for hook in itertools.chain(\n\u001b[1;32m    891\u001b[0m                 \u001b[0m_global_forward_hooks\u001b[0m\u001b[0;34m.\u001b[0m\u001b[0mvalues\u001b[0m\u001b[0;34m(\u001b[0m\u001b[0;34m)\u001b[0m\u001b[0;34m,\u001b[0m\u001b[0;34m\u001b[0m\u001b[0;34m\u001b[0m\u001b[0m\n",
            "\u001b[0;32m<ipython-input-30-bd6bbc292ea4>\u001b[0m in \u001b[0;36mforward\u001b[0;34m(self, image, input_ids, bbox, attention_mask, token_type_ids, neighbors, inputs_embeds, position_ids, head_mask, labels, output_attentions, output_hidden_states, return_dict)\u001b[0m\n\u001b[1;32m     73\u001b[0m                   \u001b[0mx\u001b[0m\u001b[0;34m=\u001b[0m\u001b[0mw\u001b[0m\u001b[0;34m.\u001b[0m\u001b[0mcpu\u001b[0m\u001b[0;34m(\u001b[0m\u001b[0;34m)\u001b[0m\u001b[0;34m.\u001b[0m\u001b[0mdetach\u001b[0m\u001b[0;34m(\u001b[0m\u001b[0;34m)\u001b[0m\u001b[0;34m.\u001b[0m\u001b[0mnumpy\u001b[0m\u001b[0;34m(\u001b[0m\u001b[0;34m)\u001b[0m\u001b[0;34m\u001b[0m\u001b[0;34m\u001b[0m\u001b[0m\n\u001b[1;32m     74\u001b[0m                   \u001b[0mx\u001b[0m\u001b[0;34m=\u001b[0m\u001b[0mint\u001b[0m\u001b[0;34m(\u001b[0m\u001b[0mx\u001b[0m\u001b[0;34m)\u001b[0m\u001b[0;34m\u001b[0m\u001b[0;34m\u001b[0m\u001b[0m\n\u001b[0;32m---> 75\u001b[0;31m                   \u001b[0mdictionary\u001b[0m\u001b[0;34m[\u001b[0m\u001b[0mx\u001b[0m\u001b[0;34m]\u001b[0m \u001b[0;34m=\u001b[0m\u001b[0mdictionary\u001b[0m\u001b[0;34m[\u001b[0m\u001b[0mx\u001b[0m\u001b[0;34m]\u001b[0m\u001b[0;34m.\u001b[0m\u001b[0mcuda\u001b[0m\u001b[0;34m(\u001b[0m\u001b[0;34m)\u001b[0m\u001b[0;34m\u001b[0m\u001b[0;34m\u001b[0m\u001b[0m\n\u001b[0m\u001b[1;32m     76\u001b[0m                   \u001b[0membed\u001b[0m \u001b[0;34m=\u001b[0m \u001b[0mtorch\u001b[0m\u001b[0;34m.\u001b[0m\u001b[0madd\u001b[0m\u001b[0;34m(\u001b[0m\u001b[0membed\u001b[0m\u001b[0;34m,\u001b[0m\u001b[0mdictionary\u001b[0m\u001b[0;34m[\u001b[0m\u001b[0mx\u001b[0m\u001b[0;34m]\u001b[0m\u001b[0;34m)\u001b[0m\u001b[0;34m\u001b[0m\u001b[0;34m\u001b[0m\u001b[0m\n\u001b[1;32m     77\u001b[0m                 \u001b[0;32melse\u001b[0m\u001b[0;34m:\u001b[0m\u001b[0;34m\u001b[0m\u001b[0;34m\u001b[0m\u001b[0m\n",
            "\u001b[0;31mKeyboardInterrupt\u001b[0m: "
          ]
        }
      ],
      "source": [
        "from sklearn.model_selection import KFold\n",
        "from torch.utils.data import SubsetRandomSampler,DataLoader,TensorDataset\n",
        "import pprint\n",
        "import numpy\n",
        "from seqeval.metrics import (\n",
        "    classification_report,\n",
        "    f1_score,\n",
        "    precision_score,\n",
        "    recall_score,\n",
        ")\n",
        "import cv2\n",
        "# k_folds = 10\n",
        "results = []\n",
        "# kfold = KFold(n_splits=k_folds, shuffle=False)\n",
        "num_train_epochs = 45\n",
        "t_total = len(train_dataloader) * num_train_epochs # total number of training steps \n",
        "torch.cuda.empty_cache()\n",
        "model = LayoutLMv2ForTokenClassification()\n",
        "#model = nn.DataParallel(model)\n",
        "device = torch.device('cuda:0')\n",
        "model.to(device)\n",
        "optimizer = AdamW(model.parameters(), lr=5e-5)\n",
        "# wandb.init(name='First Run', \n",
        "#           project='FinalResultsWithFullDatasetwith45epochs',\n",
        "#           notes='FinalResultsWithFullDataset', \n",
        "#           tags=['FinalResultsWithFullDataset'])\n",
        "global_step = 0\n",
        "# wandb.watch(model)\n",
        "model.train() \n",
        "for epoch in range(num_train_epochs):  \n",
        "  print(\"Epoch:\", epoch)\n",
        "  for batch in tqdm(train_dataloader):\n",
        "        # input_ids = torch.Tensor(list(batch['input_ids'].values)).to(device)\n",
        "        input_ids = batch['input_ids'].long().cuda()\n",
        "        image = batch['image'].long().cuda()\n",
        "        bbox = batch[\"bbox\"].long().cuda()\n",
        "        attention_mask = batch[\"attention_mask\"].long().cuda()\n",
        "        token_type_ids = batch[\"token_type_ids\"].long().cuda()\n",
        "        labels = batch[\"labels\"].long().cuda()\n",
        "        neighbors = batch['neighbors'].long().cuda()\n",
        "        # print(batch)\n",
        "        # zero the parameter gradients\n",
        "        optimizer.zero_grad()\n",
        "        outputs = model(labels=labels,\n",
        "                      input_ids= input_ids,\n",
        "                      bbox=bbox, \n",
        "                      attention_mask=attention_mask,\n",
        "                      token_type_ids=token_type_ids,\n",
        "                      image=image,\n",
        "                      neighbors= neighbors)\n",
        "        # forward + backward + optimize\n",
        "        # outputs = model(input_ids=input_ids,image=image,bbox=bbox,attention_mask=attention_mask,token) \n",
        "        loss = outputs.loss\n",
        "        \n",
        "        # print loss every 100 steps\n",
        "        if global_step % 100 == 0:\n",
        "          print(f\"Loss after {global_step} steps: {loss.item()}\")\n",
        "        # wandb.log({\n",
        "        # \"Epoch\": epoch,\n",
        "        # \"Train Loss\": loss.item()})\n",
        "        loss.backward()\n",
        "        optimizer.step()\n",
        "        global_step += 1"
      ]
    },
    {
      "cell_type": "code",
      "execution_count": null,
      "metadata": {
        "id": "_Ntb7HoHCKZ7"
      },
      "outputs": [],
      "source": [
        "save_path = f'/final_model_45epochs.pth'\n",
        "#torch.save(model.state_dict(), save_path)"
      ]
    },
    {
      "cell_type": "code",
      "execution_count": null,
      "metadata": {
        "id": "3gGtqaabCKVf",
        "colab": {
          "base_uri": "https://localhost:8080/",
          "height": 470
        },
        "outputId": "87a37047-4f5e-4ffa-d292-fc554f4c266d"
      },
      "outputs": [
        {
          "output_type": "stream",
          "name": "stderr",
          "text": [
            "Some weights of the model checkpoint at microsoft/layoutlmv2-base-uncased were not used when initializing LayoutLMv2Model: ['layoutlmv2.visual.backbone.bottom_up.res4.7.conv3.norm.num_batches_tracked', 'layoutlmv2.visual.backbone.bottom_up.res5.0.conv1.norm.num_batches_tracked', 'layoutlmv2.visual.backbone.bottom_up.res3.0.shortcut.norm.num_batches_tracked', 'layoutlmv2.visual.backbone.bottom_up.res4.9.conv2.norm.num_batches_tracked', 'layoutlmv2.visual.backbone.bottom_up.res5.0.conv2.norm.num_batches_tracked', 'layoutlmv2.visual.backbone.bottom_up.res4.11.conv1.norm.num_batches_tracked', 'layoutlmv2.visual.backbone.bottom_up.res4.17.conv1.norm.num_batches_tracked', 'layoutlmv2.visual.backbone.bottom_up.res4.3.conv3.norm.num_batches_tracked', 'layoutlmv2.visual.backbone.bottom_up.res4.20.conv3.norm.num_batches_tracked', 'layoutlmv2.visual.backbone.bottom_up.res4.2.conv3.norm.num_batches_tracked', 'layoutlmv2.visual.backbone.bottom_up.res4.12.conv2.norm.num_batches_tracked', 'layoutlmv2.visual.backbone.bottom_up.res3.1.conv2.norm.num_batches_tracked', 'layoutlmv2.visual.backbone.bottom_up.res4.13.conv1.norm.num_batches_tracked', 'layoutlmv2.visual.backbone.bottom_up.res4.0.shortcut.norm.num_batches_tracked', 'layoutlmv2.visual.backbone.bottom_up.res4.2.conv2.norm.num_batches_tracked', 'layoutlmv2.visual.backbone.bottom_up.res4.22.conv2.norm.num_batches_tracked', 'layoutlmv2.visual.backbone.bottom_up.res4.20.conv2.norm.num_batches_tracked', 'layoutlmv2.visual.backbone.bottom_up.res4.18.conv2.norm.num_batches_tracked', 'layoutlmv2.visual.backbone.bottom_up.res4.10.conv1.norm.num_batches_tracked', 'layoutlmv2.visual.backbone.bottom_up.res4.3.conv1.norm.num_batches_tracked', 'layoutlmv2.visual.backbone.bottom_up.res4.19.conv3.norm.num_batches_tracked', 'layoutlmv2.visual.backbone.bottom_up.res3.0.conv1.norm.num_batches_tracked', 'layoutlmv2.visual.backbone.bottom_up.res5.2.conv2.norm.num_batches_tracked', 'layoutlmv2.visual.backbone.bottom_up.res3.3.conv2.norm.num_batches_tracked', 'layoutlmv2.visual.backbone.bottom_up.res4.3.conv2.norm.num_batches_tracked', 'layoutlmv2.visual.backbone.bottom_up.res4.1.conv3.norm.num_batches_tracked', 'layoutlmv2.visual.backbone.bottom_up.res4.2.conv1.norm.num_batches_tracked', 'layoutlmv2.visual.backbone.bottom_up.res4.16.conv2.norm.num_batches_tracked', 'layoutlmv2.visual.backbone.bottom_up.res4.1.conv2.norm.num_batches_tracked', 'layoutlmv2.visual.backbone.bottom_up.res2.1.conv3.norm.num_batches_tracked', 'layoutlmv2.visual.backbone.bottom_up.res4.14.conv2.norm.num_batches_tracked', 'layoutlmv2.visual.backbone.bottom_up.res2.0.conv1.norm.num_batches_tracked', 'layoutlmv2.visual.backbone.bottom_up.res2.0.shortcut.norm.num_batches_tracked', 'layoutlmv2.visual.backbone.bottom_up.res2.0.conv3.norm.num_batches_tracked', 'layoutlmv2.visual.backbone.bottom_up.res4.6.conv1.norm.num_batches_tracked', 'layoutlmv2.visual.backbone.bottom_up.res4.10.conv2.norm.num_batches_tracked', 'layoutlmv2.visual.backbone.bottom_up.res5.1.conv1.norm.num_batches_tracked', 'layoutlmv2.visual.backbone.bottom_up.res4.21.conv2.norm.num_batches_tracked', 'layoutlmv2.visual.backbone.bottom_up.res4.14.conv3.norm.num_batches_tracked', 'layoutlmv2.visual.backbone.bottom_up.res3.0.conv3.norm.num_batches_tracked', 'layoutlmv2.visual.backbone.bottom_up.res4.12.conv3.norm.num_batches_tracked', 'layoutlmv2.visual.backbone.bottom_up.res4.7.conv1.norm.num_batches_tracked', 'layoutlmv2.visual.backbone.bottom_up.res5.2.conv1.norm.num_batches_tracked', 'layoutlmv2.visual.backbone.bottom_up.res4.15.conv1.norm.num_batches_tracked', 'layoutlmv2.visual.backbone.bottom_up.res4.16.conv3.norm.num_batches_tracked', 'layoutlmv2.visual.backbone.bottom_up.res4.19.conv2.norm.num_batches_tracked', 'layoutlmv2.visual.backbone.bottom_up.res3.1.conv3.norm.num_batches_tracked', 'layoutlmv2.visual.backbone.bottom_up.res2.1.conv2.norm.num_batches_tracked', 'layoutlmv2.visual.backbone.bottom_up.res4.1.conv1.norm.num_batches_tracked', 'layoutlmv2.visual.backbone.bottom_up.res4.15.conv2.norm.num_batches_tracked', 'layoutlmv2.visual.backbone.bottom_up.res2.0.conv2.norm.num_batches_tracked', 'layoutlmv2.visual.backbone.bottom_up.res4.18.conv1.norm.num_batches_tracked', 'layoutlmv2.visual.backbone.bottom_up.res3.2.conv2.norm.num_batches_tracked', 'layoutlmv2.visual.backbone.bottom_up.res4.9.conv1.norm.num_batches_tracked', 'layoutlmv2.visual.backbone.bottom_up.res2.1.conv1.norm.num_batches_tracked', 'layoutlmv2.visual.backbone.bottom_up.res4.0.conv1.norm.num_batches_tracked', 'layoutlmv2.visual.backbone.bottom_up.res4.5.conv2.norm.num_batches_tracked', 'layoutlmv2.visual.backbone.bottom_up.res4.7.conv2.norm.num_batches_tracked', 'layoutlmv2.visual.backbone.bottom_up.res4.22.conv1.norm.num_batches_tracked', 'layoutlmv2.visual.backbone.bottom_up.res3.2.conv1.norm.num_batches_tracked', 'layoutlmv2.visual.backbone.bottom_up.res4.13.conv3.norm.num_batches_tracked', 'layoutlmv2.visual.backbone.bottom_up.res4.0.conv2.norm.num_batches_tracked', 'layoutlmv2.visual.backbone.bottom_up.res4.18.conv3.norm.num_batches_tracked', 'layoutlmv2.visual.backbone.bottom_up.res4.11.conv3.norm.num_batches_tracked', 'layoutlmv2.visual.backbone.bottom_up.res3.3.conv3.norm.num_batches_tracked', 'layoutlmv2.visual.backbone.bottom_up.res4.5.conv1.norm.num_batches_tracked', 'layoutlmv2.visual.backbone.bottom_up.res3.0.conv2.norm.num_batches_tracked', 'layoutlmv2.visual.backbone.bottom_up.res5.2.conv3.norm.num_batches_tracked', 'layoutlmv2.visual.backbone.bottom_up.res4.0.conv3.norm.num_batches_tracked', 'layoutlmv2.visual.backbone.bottom_up.res4.15.conv3.norm.num_batches_tracked', 'layoutlmv2.visual.backbone.bottom_up.res4.4.conv1.norm.num_batches_tracked', 'layoutlmv2.visual.backbone.bottom_up.res4.8.conv2.norm.num_batches_tracked', 'layoutlmv2.visual.backbone.bottom_up.res4.13.conv2.norm.num_batches_tracked', 'layoutlmv2.visual.backbone.bottom_up.res4.20.conv1.norm.num_batches_tracked', 'layoutlmv2.visual.backbone.bottom_up.res4.5.conv3.norm.num_batches_tracked', 'layoutlmv2.visual.backbone.bottom_up.res4.19.conv1.norm.num_batches_tracked', 'layoutlmv2.visual.backbone.bottom_up.res4.12.conv1.norm.num_batches_tracked', 'layoutlmv2.visual.backbone.bottom_up.res4.16.conv1.norm.num_batches_tracked', 'layoutlmv2.visual.backbone.bottom_up.res2.2.conv3.norm.num_batches_tracked', 'layoutlmv2.visual.backbone.bottom_up.res5.0.shortcut.norm.num_batches_tracked', 'layoutlmv2.visual.backbone.bottom_up.res3.2.conv3.norm.num_batches_tracked', 'layoutlmv2.visual.backbone.bottom_up.res3.1.conv1.norm.num_batches_tracked', 'layoutlmv2.visual.backbone.bottom_up.res2.2.conv2.norm.num_batches_tracked', 'layoutlmv2.visual.backbone.bottom_up.res4.9.conv3.norm.num_batches_tracked', 'layoutlmv2.visual.backbone.bottom_up.res2.2.conv1.norm.num_batches_tracked', 'layoutlmv2.visual.backbone.bottom_up.res4.17.conv2.norm.num_batches_tracked', 'layoutlmv2.visual.backbone.bottom_up.res4.10.conv3.norm.num_batches_tracked', 'layoutlmv2.visual.backbone.bottom_up.res4.8.conv1.norm.num_batches_tracked', 'layoutlmv2.visual.backbone.bottom_up.res4.8.conv3.norm.num_batches_tracked', 'layoutlmv2.visual.backbone.bottom_up.res4.4.conv3.norm.num_batches_tracked', 'layoutlmv2.visual.backbone.bottom_up.res4.6.conv2.norm.num_batches_tracked', 'layoutlmv2.visual.backbone.bottom_up.res5.1.conv2.norm.num_batches_tracked', 'layoutlmv2.visual.backbone.bottom_up.res4.21.conv3.norm.num_batches_tracked', 'layoutlmv2.visual.backbone.bottom_up.res4.14.conv1.norm.num_batches_tracked', 'layoutlmv2.visual.backbone.bottom_up.stem.conv1.norm.num_batches_tracked', 'layoutlmv2.visual.backbone.bottom_up.res4.4.conv2.norm.num_batches_tracked', 'layoutlmv2.visual.backbone.bottom_up.res4.22.conv3.norm.num_batches_tracked', 'layoutlmv2.visual.backbone.bottom_up.res4.21.conv1.norm.num_batches_tracked', 'layoutlmv2.visual.backbone.bottom_up.res5.0.conv3.norm.num_batches_tracked', 'layoutlmv2.visual.backbone.bottom_up.res5.1.conv3.norm.num_batches_tracked', 'layoutlmv2.visual.backbone.bottom_up.res3.3.conv1.norm.num_batches_tracked', 'layoutlmv2.visual.backbone.bottom_up.res4.11.conv2.norm.num_batches_tracked', 'layoutlmv2.visual.backbone.bottom_up.res4.6.conv3.norm.num_batches_tracked', 'layoutlmv2.visual.backbone.bottom_up.res4.17.conv3.norm.num_batches_tracked']\n",
            "- This IS expected if you are initializing LayoutLMv2Model from the checkpoint of a model trained on another task or with another architecture (e.g. initializing a BertForSequenceClassification model from a BertForPreTraining model).\n",
            "- This IS NOT expected if you are initializing LayoutLMv2Model from the checkpoint of a model that you expect to be exactly identical (initializing a BertForSequenceClassification model from a BertForSequenceClassification model).\n"
          ]
        },
        {
          "output_type": "error",
          "ename": "UnpicklingError",
          "evalue": "ignored",
          "traceback": [
            "\u001b[0;31m---------------------------------------------------------------------------\u001b[0m",
            "\u001b[0;31mUnpicklingError\u001b[0m                           Traceback (most recent call last)",
            "\u001b[0;32m<ipython-input-60-a3de7afb54e9>\u001b[0m in \u001b[0;36m<module>\u001b[0;34m()\u001b[0m\n\u001b[1;32m     16\u001b[0m \u001b[0;31m# testmodel.eval()\u001b[0m\u001b[0;34m\u001b[0m\u001b[0;34m\u001b[0m\u001b[0;34m\u001b[0m\u001b[0m\n\u001b[1;32m     17\u001b[0m \u001b[0mtestmodel\u001b[0m \u001b[0;34m=\u001b[0m \u001b[0mLayoutLMv2ForTokenClassification\u001b[0m\u001b[0;34m(\u001b[0m\u001b[0;34m)\u001b[0m\u001b[0;34m\u001b[0m\u001b[0;34m\u001b[0m\u001b[0m\n\u001b[0;32m---> 18\u001b[0;31m \u001b[0mtestmodel\u001b[0m\u001b[0;34m.\u001b[0m\u001b[0mload_state_dict\u001b[0m\u001b[0;34m(\u001b[0m\u001b[0mtorch\u001b[0m\u001b[0;34m.\u001b[0m\u001b[0mload\u001b[0m\u001b[0;34m(\u001b[0m\u001b[0msave_path\u001b[0m\u001b[0;34m)\u001b[0m\u001b[0;34m)\u001b[0m\u001b[0;34m\u001b[0m\u001b[0;34m\u001b[0m\u001b[0m\n\u001b[0m\u001b[1;32m     19\u001b[0m \u001b[0mtestmodel\u001b[0m\u001b[0;34m.\u001b[0m\u001b[0mto\u001b[0m\u001b[0;34m(\u001b[0m\u001b[0mdevice\u001b[0m\u001b[0;34m)\u001b[0m\u001b[0;34m\u001b[0m\u001b[0;34m\u001b[0m\u001b[0m\n\u001b[1;32m     20\u001b[0m \u001b[0;32mfor\u001b[0m \u001b[0mbatch\u001b[0m \u001b[0;32min\u001b[0m \u001b[0mtqdm\u001b[0m\u001b[0;34m(\u001b[0m\u001b[0mtest_dataloader\u001b[0m\u001b[0;34m,\u001b[0m \u001b[0mdesc\u001b[0m\u001b[0;34m=\u001b[0m\u001b[0;34m\"Evaluating\"\u001b[0m\u001b[0;34m)\u001b[0m\u001b[0;34m:\u001b[0m\u001b[0;34m\u001b[0m\u001b[0;34m\u001b[0m\u001b[0m\n",
            "\u001b[0;32m/usr/local/lib/python3.7/dist-packages/torch/serialization.py\u001b[0m in \u001b[0;36mload\u001b[0;34m(f, map_location, pickle_module, **pickle_load_args)\u001b[0m\n\u001b[1;32m    591\u001b[0m                     \u001b[0;32mreturn\u001b[0m \u001b[0mtorch\u001b[0m\u001b[0;34m.\u001b[0m\u001b[0mjit\u001b[0m\u001b[0;34m.\u001b[0m\u001b[0mload\u001b[0m\u001b[0;34m(\u001b[0m\u001b[0mopened_file\u001b[0m\u001b[0;34m)\u001b[0m\u001b[0;34m\u001b[0m\u001b[0;34m\u001b[0m\u001b[0m\n\u001b[1;32m    592\u001b[0m                 \u001b[0;32mreturn\u001b[0m \u001b[0m_load\u001b[0m\u001b[0;34m(\u001b[0m\u001b[0mopened_zipfile\u001b[0m\u001b[0;34m,\u001b[0m \u001b[0mmap_location\u001b[0m\u001b[0;34m,\u001b[0m \u001b[0mpickle_module\u001b[0m\u001b[0;34m,\u001b[0m \u001b[0;34m**\u001b[0m\u001b[0mpickle_load_args\u001b[0m\u001b[0;34m)\u001b[0m\u001b[0;34m\u001b[0m\u001b[0;34m\u001b[0m\u001b[0m\n\u001b[0;32m--> 593\u001b[0;31m         \u001b[0;32mreturn\u001b[0m \u001b[0m_legacy_load\u001b[0m\u001b[0;34m(\u001b[0m\u001b[0mopened_file\u001b[0m\u001b[0;34m,\u001b[0m \u001b[0mmap_location\u001b[0m\u001b[0;34m,\u001b[0m \u001b[0mpickle_module\u001b[0m\u001b[0;34m,\u001b[0m \u001b[0;34m**\u001b[0m\u001b[0mpickle_load_args\u001b[0m\u001b[0;34m)\u001b[0m\u001b[0;34m\u001b[0m\u001b[0;34m\u001b[0m\u001b[0m\n\u001b[0m\u001b[1;32m    594\u001b[0m \u001b[0;34m\u001b[0m\u001b[0m\n\u001b[1;32m    595\u001b[0m \u001b[0;34m\u001b[0m\u001b[0m\n",
            "\u001b[0;32m/usr/local/lib/python3.7/dist-packages/torch/serialization.py\u001b[0m in \u001b[0;36m_legacy_load\u001b[0;34m(f, map_location, pickle_module, **pickle_load_args)\u001b[0m\n\u001b[1;32m    760\u001b[0m             \"functionality.\")\n\u001b[1;32m    761\u001b[0m \u001b[0;34m\u001b[0m\u001b[0m\n\u001b[0;32m--> 762\u001b[0;31m     \u001b[0mmagic_number\u001b[0m \u001b[0;34m=\u001b[0m \u001b[0mpickle_module\u001b[0m\u001b[0;34m.\u001b[0m\u001b[0mload\u001b[0m\u001b[0;34m(\u001b[0m\u001b[0mf\u001b[0m\u001b[0;34m,\u001b[0m \u001b[0;34m**\u001b[0m\u001b[0mpickle_load_args\u001b[0m\u001b[0;34m)\u001b[0m\u001b[0;34m\u001b[0m\u001b[0;34m\u001b[0m\u001b[0m\n\u001b[0m\u001b[1;32m    763\u001b[0m     \u001b[0;32mif\u001b[0m \u001b[0mmagic_number\u001b[0m \u001b[0;34m!=\u001b[0m \u001b[0mMAGIC_NUMBER\u001b[0m\u001b[0;34m:\u001b[0m\u001b[0;34m\u001b[0m\u001b[0;34m\u001b[0m\u001b[0m\n\u001b[1;32m    764\u001b[0m         \u001b[0;32mraise\u001b[0m \u001b[0mRuntimeError\u001b[0m\u001b[0;34m(\u001b[0m\u001b[0;34m\"Invalid magic number; corrupt file?\"\u001b[0m\u001b[0;34m)\u001b[0m\u001b[0;34m\u001b[0m\u001b[0;34m\u001b[0m\u001b[0m\n",
            "\u001b[0;31mUnpicklingError\u001b[0m: invalid load key, '$'."
          ]
        }
      ],
      "source": [
        "from sklearn.preprocessing import MultiLabelBinarizer\n",
        "from sklearn.metrics import confusion_matrix,multilabel_confusion_matrix, classification_report\n",
        "import numpy as np\n",
        "from seqeval.metrics import (\n",
        "    classification_report,\n",
        "    f1_score,\n",
        "    precision_score,\n",
        "    recall_score,\n",
        ")\n",
        "eval_loss = 0.0\n",
        "nb_eval_steps = 0\n",
        "preds = None\n",
        "out_label_ids = None\n",
        "# testmodel = model\n",
        "# # put model in evaluation mode\n",
        "# testmodel.eval()\n",
        "testmodel = LayoutLMv2ForTokenClassification()\n",
        "testmodel.load_state_dict(torch.load(save_path))\n",
        "testmodel.to(device)\n",
        "for batch in tqdm(test_dataloader, desc=\"Evaluating\"):\n",
        "    with torch.no_grad():\n",
        "        input_ids=batch['input_ids'].long().cuda()\n",
        "        bbox=batch['bbox'].long().cuda()\n",
        "        attention_mask=batch['attention_mask'].long().cuda()\n",
        "        token_type_ids=batch['token_type_ids'].long().cuda()\n",
        "        labels=batch['labels'].long().cuda()\n",
        "        image = batch['image'].long().cuda()\n",
        "        neighbors = batch['neighbors'].long().cuda()\n",
        "        # resized_images = batch['resized_image'].to(device) \n",
        "        # resized_and_aligned_bounding_boxes = batch['resized_and_aligned_bounding_boxes'].to(device) \n",
        "\n",
        "        # forward pass\n",
        "        outputs = testmodel(input_ids=input_ids, bbox=bbox, attention_mask=attention_mask, token_type_ids=token_type_ids, \n",
        "                        labels=labels,image=image,neighbors=neighbors)\n",
        "\n",
        "        # get the loss and logits\n",
        "        tmp_eval_loss = outputs.loss\n",
        "        logits = outputs.logits\n",
        "\n",
        "        eval_loss += tmp_eval_loss.item()\n",
        "        nb_eval_steps += 1\n",
        "\n",
        "        # compute the predictions\n",
        "        if preds is None:\n",
        "            preds = logits.detach().cpu().numpy()\n",
        "            out_label_ids = labels.detach().cpu().numpy()\n",
        "        else:\n",
        "            preds = np.append(preds, logits.detach().cpu().numpy(), axis=0)\n",
        "            out_label_ids = np.append(\n",
        "                out_label_ids, labels.detach().cpu().numpy(), axis=0\n",
        "            )\n",
        "\n",
        "# compute average evaluation loss\n",
        "eval_loss = eval_loss / nb_eval_steps\n",
        "preds = np.argmax(preds, axis=2)\n",
        "\n",
        "out_label_list = [[] for _ in range(out_label_ids.shape[0])]\n",
        "preds_list = [[] for _ in range(out_label_ids.shape[0])]\n",
        "\n",
        "for i in range(out_label_ids.shape[0]):\n",
        "    for j in range(out_label_ids.shape[1]):\n",
        "        if out_label_ids[i, j] != -100:\n",
        "            out_label_list[i].append(idx2label[out_label_ids[i][j]])\n",
        "            preds_list[i].append(idx2label[preds[i][j]])\n",
        "\n",
        "testresults = {\n",
        "    \"loss\": eval_loss,\n",
        "    \"precision\": precision_score(out_label_list, preds_list),\n",
        "    \"recall\": recall_score(out_label_list, preds_list),\n",
        "    \"f1\": f1_score(out_label_list, preds_list),\n",
        "    \"classification_report\": classification_report(out_label_list, preds_list)\n",
        "    # \"confusion_matrix\": multilabel_confusion_matrix(MultiLabelBinarizer().fit_transform(out_label_list), MultiLabelBinarizer().fit_transform(preds_list))\n",
        "    # \"confusion_matrix\": confusion_matrix(MultiLabelBinarizer().fit_transform(out_label_list), MultiLabelBinarizer().fit_transform(preds_list))\n",
        "}\n",
        "#print(out_label_list)\n",
        "#print(preds_list)\n",
        "print(testresults)"
      ]
    },
    {
      "cell_type": "code",
      "source": [
        "from google.colab import drive\n",
        "drive.mount('/content/Mydrive')"
      ],
      "metadata": {
        "colab": {
          "base_uri": "https://localhost:8080/"
        },
        "id": "yRqIcQkFMPec",
        "outputId": "2d5a1a84-baeb-4349-e7b0-1bfcd149728d"
      },
      "execution_count": null,
      "outputs": [
        {
          "output_type": "stream",
          "name": "stdout",
          "text": [
            "Drive already mounted at /content/Mydrive; to attempt to forcibly remount, call drive.mount(\"/content/Mydrive\", force_remount=True).\n"
          ]
        }
      ]
    },
    {
      "cell_type": "code",
      "source": [
        "!ls\n"
      ],
      "metadata": {
        "colab": {
          "base_uri": "https://localhost:8080/"
        },
        "id": "ZHJiyLz2U7Dc",
        "outputId": "80384b71-d493-47fa-d3bd-c218b6e005e2"
      },
      "execution_count": null,
      "outputs": [
        {
          "output_type": "stream",
          "name": "stdout",
          "text": [
            "MyDrive\n"
          ]
        }
      ]
    },
    {
      "cell_type": "code",
      "execution_count": null,
      "metadata": {
        "id": "tY5M7XGTJYQg"
      },
      "outputs": [],
      "source": [
        "from datasets import load_metric\n",
        "torch.cuda.empty_cache()\n",
        "model = LayoutLMv2ForTokenClassification()\n",
        "device = torch.device('cuda:0')\n",
        "model = model.to(device)\n",
        "metric = load_metric(\"seqeval\")\n",
        "\n",
        "# put model in evaluation mode\n",
        "model.eval()\n",
        "for batch in tqdm(test_dataloader, desc=\"Evaluating\"):\n",
        "    with torch.no_grad():\n",
        "        input_ids=batch['input_ids'].long().cuda()\n",
        "        bbox=batch['bbox'].long().cuda()\n",
        "        attention_mask=batch['attention_mask'].long().cuda()\n",
        "        token_type_ids=batch['token_type_ids'].long().cuda()\n",
        "        labels=batch['labels'].long().cuda()\n",
        "        image = batch['image'].long().cuda()\n",
        "        neighbors = batch['neighbors'].long().cuda()\n",
        "\n",
        "        # forward pass\n",
        "        # forward pass\n",
        "        outputs = testmodel(input_ids=input_ids, bbox=bbox, attention_mask=attention_mask, token_type_ids=token_type_ids, \n",
        "                        labels=labels,image=image,neighbors=neighbors)\n",
        "        \n",
        "        # predictions\n",
        "        predictions = outputs.logits.argmax(dim=2)\n",
        "\n",
        "        # Remove ignored index (special tokens)\n",
        "        true_predictions = [\n",
        "            [idx2label[p.item()] for (p, l) in zip(prediction, label) if l != -100]\n",
        "            for prediction, label in zip(predictions, labels)\n",
        "        ]\n",
        "        true_labels = [\n",
        "            [idx2label[l.item()] for (p, l) in zip(prediction, label) if l != -100]\n",
        "            for prediction, label in zip(predictions, labels)\n",
        "        ]\n",
        "\n",
        "        metric.add_batch(predictions=true_predictions, references=true_labels)\n",
        "\n",
        "final_score = metric.compute()\n",
        "print(final_score)"
      ]
    },
    {
      "cell_type": "code",
      "execution_count": null,
      "metadata": {
        "id": "0EYoCGh4OL3E"
      },
      "outputs": [],
      "source": [
        "labels_list = []\n",
        "for i in out_label_list:\n",
        "  labels_list.extend(i)\n",
        "preds = []\n",
        "for i in preds_list:\n",
        "  preds.extend(i)\n",
        "print(confusion_matrix(labels_list,preds,labels=['O', 'B-HEADER', 'I-HEADER', 'B-QUESTION', 'I-QUESTION', 'B-ANSWER', 'I-ANSWER']))"
      ]
    },
    {
      "cell_type": "code",
      "execution_count": null,
      "metadata": {
        "id": "DGNchBfwCKRy"
      },
      "outputs": [],
      "source": [
        "print(testresults[\"classification_report\"])"
      ]
    },
    {
      "cell_type": "code",
      "execution_count": null,
      "metadata": {
        "id": "zg93sLrICKIX"
      },
      "outputs": [],
      "source": [
        "epoch = \"15\" #@param {type:\"string\"}\n",
        "precision = \"77\" #@param {type:\"string\"}\n",
        "recall = \"82\" #@param {type:\"string\"}\n",
        "f1 = \"79\" #@param {type:\"string\"}"
      ]
    },
    {
      "cell_type": "markdown",
      "metadata": {
        "id": "ZW_v0wzfDfkN"
      },
      "source": [
        "Neha's Results for 12 horizontal neighbors = \n",
        "\n",
        "*   45 epochs = {'loss': 1.0616337925195694, 'precision': 0.810695837131571, 'recall': 0.8472530962210225, 'f1': 0.8285714285714285}\n",
        "*   45 epochs = {'loss': 1.073586738705635, 'precision': 0.8232956282482421, 'recall': 0.8551921244839632, 'f1': 0.8389408099688473} run2\n",
        "\n",
        "*   45 epochs = {'loss': 0.979728022813797, 'precision': 0.8365354330708662, 'recall': 0.8434423626548111, 'f1': 0.8399746995572422} run3\n",
        "*   List item\n"
      ]
    },
    {
      "cell_type": "markdown",
      "metadata": {
        "id": "RmWuJ7gID8IG"
      },
      "source": [
        "Results for 12 neighbors with gating and attention\n",
        "\n",
        "*   25 epochs = {'loss': 1.000847765803337, 'precision': 0.7917668269230769, 'recall': 0.8367735789139409, 'f1': 0.8136482939632544}"
      ]
    },
    {
      "cell_type": "code",
      "source": [
        "# 45 epochs'overall_precision': 0.7823426573426573, 'overall_recall': 0.8364485981308412, 'overall_f1': 0.8084914182475158, 'overall_accuracy': 0.8102350098835932}\n"
      ],
      "metadata": {
        "id": "qaz5bFJUgEsu"
      },
      "execution_count": null,
      "outputs": []
    }
  ],
  "metadata": {
    "colab": {
      "collapsed_sections": [],
      "machine_shape": "hm",
      "name": "NeighborswithLayoutLMv2.ipynb",
      "provenance": [],
      "include_colab_link": true
    },
    "kernelspec": {
      "display_name": "Python 3",
      "name": "python3"
    },
    "language_info": {
      "name": "python"
    },
    "widgets": {
      "application/vnd.jupyter.widget-state+json": {
        "92e3fdc73e6941a999307523609f663e": {
          "model_module": "@jupyter-widgets/controls",
          "model_name": "HBoxModel",
          "model_module_version": "1.5.0",
          "state": {
            "_view_name": "HBoxView",
            "_dom_classes": [],
            "_model_name": "HBoxModel",
            "_view_module": "@jupyter-widgets/controls",
            "_model_module_version": "1.5.0",
            "_view_count": null,
            "_view_module_version": "1.5.0",
            "box_style": "",
            "layout": "IPY_MODEL_ccaa8a0736a8447085acbe739a306c7e",
            "_model_module": "@jupyter-widgets/controls",
            "children": [
              "IPY_MODEL_0651d78037084162a9d9fb411136c0c8",
              "IPY_MODEL_41e5cb4261dc48ffb39140165659a317",
              "IPY_MODEL_43583f96f19d48e0a485c2af558b6ec0"
            ]
          }
        },
        "ccaa8a0736a8447085acbe739a306c7e": {
          "model_module": "@jupyter-widgets/base",
          "model_name": "LayoutModel",
          "model_module_version": "1.2.0",
          "state": {
            "_view_name": "LayoutView",
            "grid_template_rows": null,
            "right": null,
            "justify_content": null,
            "_view_module": "@jupyter-widgets/base",
            "overflow": null,
            "_model_module_version": "1.2.0",
            "_view_count": null,
            "flex_flow": null,
            "width": null,
            "min_width": null,
            "border": null,
            "align_items": null,
            "bottom": null,
            "_model_module": "@jupyter-widgets/base",
            "top": null,
            "grid_column": null,
            "overflow_y": null,
            "overflow_x": null,
            "grid_auto_flow": null,
            "grid_area": null,
            "grid_template_columns": null,
            "flex": null,
            "_model_name": "LayoutModel",
            "justify_items": null,
            "grid_row": null,
            "max_height": null,
            "align_content": null,
            "visibility": null,
            "align_self": null,
            "height": null,
            "min_height": null,
            "padding": null,
            "grid_auto_rows": null,
            "grid_gap": null,
            "max_width": null,
            "order": null,
            "_view_module_version": "1.2.0",
            "grid_template_areas": null,
            "object_position": null,
            "object_fit": null,
            "grid_auto_columns": null,
            "margin": null,
            "display": null,
            "left": null
          }
        },
        "0651d78037084162a9d9fb411136c0c8": {
          "model_module": "@jupyter-widgets/controls",
          "model_name": "HTMLModel",
          "model_module_version": "1.5.0",
          "state": {
            "_view_name": "HTMLView",
            "style": "IPY_MODEL_7604e656c5024e57a5c5ea5ea1aeaacb",
            "_dom_classes": [],
            "description": "",
            "_model_name": "HTMLModel",
            "placeholder": "​",
            "_view_module": "@jupyter-widgets/controls",
            "_model_module_version": "1.5.0",
            "value": "100%",
            "_view_count": null,
            "_view_module_version": "1.5.0",
            "description_tooltip": null,
            "_model_module": "@jupyter-widgets/controls",
            "layout": "IPY_MODEL_9b95acbb7e374df685ea7c31ec6fadcc"
          }
        },
        "41e5cb4261dc48ffb39140165659a317": {
          "model_module": "@jupyter-widgets/controls",
          "model_name": "FloatProgressModel",
          "model_module_version": "1.5.0",
          "state": {
            "_view_name": "ProgressView",
            "style": "IPY_MODEL_97ea247a61b64f168c7bafe3e51416b0",
            "_dom_classes": [],
            "description": "",
            "_model_name": "FloatProgressModel",
            "bar_style": "success",
            "max": 149,
            "_view_module": "@jupyter-widgets/controls",
            "_model_module_version": "1.5.0",
            "value": 149,
            "_view_count": null,
            "_view_module_version": "1.5.0",
            "orientation": "horizontal",
            "min": 0,
            "description_tooltip": null,
            "_model_module": "@jupyter-widgets/controls",
            "layout": "IPY_MODEL_029712232a35468398e2495c3b9ca124"
          }
        },
        "43583f96f19d48e0a485c2af558b6ec0": {
          "model_module": "@jupyter-widgets/controls",
          "model_name": "HTMLModel",
          "model_module_version": "1.5.0",
          "state": {
            "_view_name": "HTMLView",
            "style": "IPY_MODEL_9f79f6416873497fb9c6066d379ef768",
            "_dom_classes": [],
            "description": "",
            "_model_name": "HTMLModel",
            "placeholder": "​",
            "_view_module": "@jupyter-widgets/controls",
            "_model_module_version": "1.5.0",
            "value": " 149/149 [00:00&lt;00:00, 236.65ex/s]",
            "_view_count": null,
            "_view_module_version": "1.5.0",
            "description_tooltip": null,
            "_model_module": "@jupyter-widgets/controls",
            "layout": "IPY_MODEL_6663e2df4b6043abb4bc128fb175f487"
          }
        },
        "7604e656c5024e57a5c5ea5ea1aeaacb": {
          "model_module": "@jupyter-widgets/controls",
          "model_name": "DescriptionStyleModel",
          "model_module_version": "1.5.0",
          "state": {
            "_view_name": "StyleView",
            "_model_name": "DescriptionStyleModel",
            "description_width": "",
            "_view_module": "@jupyter-widgets/base",
            "_model_module_version": "1.5.0",
            "_view_count": null,
            "_view_module_version": "1.2.0",
            "_model_module": "@jupyter-widgets/controls"
          }
        },
        "9b95acbb7e374df685ea7c31ec6fadcc": {
          "model_module": "@jupyter-widgets/base",
          "model_name": "LayoutModel",
          "model_module_version": "1.2.0",
          "state": {
            "_view_name": "LayoutView",
            "grid_template_rows": null,
            "right": null,
            "justify_content": null,
            "_view_module": "@jupyter-widgets/base",
            "overflow": null,
            "_model_module_version": "1.2.0",
            "_view_count": null,
            "flex_flow": null,
            "width": null,
            "min_width": null,
            "border": null,
            "align_items": null,
            "bottom": null,
            "_model_module": "@jupyter-widgets/base",
            "top": null,
            "grid_column": null,
            "overflow_y": null,
            "overflow_x": null,
            "grid_auto_flow": null,
            "grid_area": null,
            "grid_template_columns": null,
            "flex": null,
            "_model_name": "LayoutModel",
            "justify_items": null,
            "grid_row": null,
            "max_height": null,
            "align_content": null,
            "visibility": null,
            "align_self": null,
            "height": null,
            "min_height": null,
            "padding": null,
            "grid_auto_rows": null,
            "grid_gap": null,
            "max_width": null,
            "order": null,
            "_view_module_version": "1.2.0",
            "grid_template_areas": null,
            "object_position": null,
            "object_fit": null,
            "grid_auto_columns": null,
            "margin": null,
            "display": null,
            "left": null
          }
        },
        "97ea247a61b64f168c7bafe3e51416b0": {
          "model_module": "@jupyter-widgets/controls",
          "model_name": "ProgressStyleModel",
          "model_module_version": "1.5.0",
          "state": {
            "_view_name": "StyleView",
            "_model_name": "ProgressStyleModel",
            "description_width": "",
            "_view_module": "@jupyter-widgets/base",
            "_model_module_version": "1.5.0",
            "_view_count": null,
            "_view_module_version": "1.2.0",
            "bar_color": null,
            "_model_module": "@jupyter-widgets/controls"
          }
        },
        "029712232a35468398e2495c3b9ca124": {
          "model_module": "@jupyter-widgets/base",
          "model_name": "LayoutModel",
          "model_module_version": "1.2.0",
          "state": {
            "_view_name": "LayoutView",
            "grid_template_rows": null,
            "right": null,
            "justify_content": null,
            "_view_module": "@jupyter-widgets/base",
            "overflow": null,
            "_model_module_version": "1.2.0",
            "_view_count": null,
            "flex_flow": null,
            "width": null,
            "min_width": null,
            "border": null,
            "align_items": null,
            "bottom": null,
            "_model_module": "@jupyter-widgets/base",
            "top": null,
            "grid_column": null,
            "overflow_y": null,
            "overflow_x": null,
            "grid_auto_flow": null,
            "grid_area": null,
            "grid_template_columns": null,
            "flex": null,
            "_model_name": "LayoutModel",
            "justify_items": null,
            "grid_row": null,
            "max_height": null,
            "align_content": null,
            "visibility": null,
            "align_self": null,
            "height": null,
            "min_height": null,
            "padding": null,
            "grid_auto_rows": null,
            "grid_gap": null,
            "max_width": null,
            "order": null,
            "_view_module_version": "1.2.0",
            "grid_template_areas": null,
            "object_position": null,
            "object_fit": null,
            "grid_auto_columns": null,
            "margin": null,
            "display": null,
            "left": null
          }
        },
        "9f79f6416873497fb9c6066d379ef768": {
          "model_module": "@jupyter-widgets/controls",
          "model_name": "DescriptionStyleModel",
          "model_module_version": "1.5.0",
          "state": {
            "_view_name": "StyleView",
            "_model_name": "DescriptionStyleModel",
            "description_width": "",
            "_view_module": "@jupyter-widgets/base",
            "_model_module_version": "1.5.0",
            "_view_count": null,
            "_view_module_version": "1.2.0",
            "_model_module": "@jupyter-widgets/controls"
          }
        },
        "6663e2df4b6043abb4bc128fb175f487": {
          "model_module": "@jupyter-widgets/base",
          "model_name": "LayoutModel",
          "model_module_version": "1.2.0",
          "state": {
            "_view_name": "LayoutView",
            "grid_template_rows": null,
            "right": null,
            "justify_content": null,
            "_view_module": "@jupyter-widgets/base",
            "overflow": null,
            "_model_module_version": "1.2.0",
            "_view_count": null,
            "flex_flow": null,
            "width": null,
            "min_width": null,
            "border": null,
            "align_items": null,
            "bottom": null,
            "_model_module": "@jupyter-widgets/base",
            "top": null,
            "grid_column": null,
            "overflow_y": null,
            "overflow_x": null,
            "grid_auto_flow": null,
            "grid_area": null,
            "grid_template_columns": null,
            "flex": null,
            "_model_name": "LayoutModel",
            "justify_items": null,
            "grid_row": null,
            "max_height": null,
            "align_content": null,
            "visibility": null,
            "align_self": null,
            "height": null,
            "min_height": null,
            "padding": null,
            "grid_auto_rows": null,
            "grid_gap": null,
            "max_width": null,
            "order": null,
            "_view_module_version": "1.2.0",
            "grid_template_areas": null,
            "object_position": null,
            "object_fit": null,
            "grid_auto_columns": null,
            "margin": null,
            "display": null,
            "left": null
          }
        },
        "d62ee0f15d964f6393f4f5c9c5be2526": {
          "model_module": "@jupyter-widgets/controls",
          "model_name": "HBoxModel",
          "model_module_version": "1.5.0",
          "state": {
            "_view_name": "HBoxView",
            "_dom_classes": [],
            "_model_name": "HBoxModel",
            "_view_module": "@jupyter-widgets/controls",
            "_model_module_version": "1.5.0",
            "_view_count": null,
            "_view_module_version": "1.5.0",
            "box_style": "",
            "layout": "IPY_MODEL_13fca60bb4914a2196f6e7def7985b04",
            "_model_module": "@jupyter-widgets/controls",
            "children": [
              "IPY_MODEL_32662aac31914c72b9bec4d1bfa520ef",
              "IPY_MODEL_fd578bc33f2442d8ac15009cbb913a33",
              "IPY_MODEL_a6659474c28f47dbbf69e9a422aff9a2"
            ]
          }
        },
        "13fca60bb4914a2196f6e7def7985b04": {
          "model_module": "@jupyter-widgets/base",
          "model_name": "LayoutModel",
          "model_module_version": "1.2.0",
          "state": {
            "_view_name": "LayoutView",
            "grid_template_rows": null,
            "right": null,
            "justify_content": null,
            "_view_module": "@jupyter-widgets/base",
            "overflow": null,
            "_model_module_version": "1.2.0",
            "_view_count": null,
            "flex_flow": null,
            "width": null,
            "min_width": null,
            "border": null,
            "align_items": null,
            "bottom": null,
            "_model_module": "@jupyter-widgets/base",
            "top": null,
            "grid_column": null,
            "overflow_y": null,
            "overflow_x": null,
            "grid_auto_flow": null,
            "grid_area": null,
            "grid_template_columns": null,
            "flex": null,
            "_model_name": "LayoutModel",
            "justify_items": null,
            "grid_row": null,
            "max_height": null,
            "align_content": null,
            "visibility": null,
            "align_self": null,
            "height": null,
            "min_height": null,
            "padding": null,
            "grid_auto_rows": null,
            "grid_gap": null,
            "max_width": null,
            "order": null,
            "_view_module_version": "1.2.0",
            "grid_template_areas": null,
            "object_position": null,
            "object_fit": null,
            "grid_auto_columns": null,
            "margin": null,
            "display": null,
            "left": null
          }
        },
        "32662aac31914c72b9bec4d1bfa520ef": {
          "model_module": "@jupyter-widgets/controls",
          "model_name": "HTMLModel",
          "model_module_version": "1.5.0",
          "state": {
            "_view_name": "HTMLView",
            "style": "IPY_MODEL_7bf02965137e4e18a2fb7d5c7133b9eb",
            "_dom_classes": [],
            "description": "",
            "_model_name": "HTMLModel",
            "placeholder": "​",
            "_view_module": "@jupyter-widgets/controls",
            "_model_module_version": "1.5.0",
            "value": "100%",
            "_view_count": null,
            "_view_module_version": "1.5.0",
            "description_tooltip": null,
            "_model_module": "@jupyter-widgets/controls",
            "layout": "IPY_MODEL_b81b265c9cfa471186b5de11221754d9"
          }
        },
        "fd578bc33f2442d8ac15009cbb913a33": {
          "model_module": "@jupyter-widgets/controls",
          "model_name": "FloatProgressModel",
          "model_module_version": "1.5.0",
          "state": {
            "_view_name": "ProgressView",
            "style": "IPY_MODEL_b42fcb8b3ec044ad98f22766c2faee07",
            "_dom_classes": [],
            "description": "",
            "_model_name": "FloatProgressModel",
            "bar_style": "success",
            "max": 50,
            "_view_module": "@jupyter-widgets/controls",
            "_model_module_version": "1.5.0",
            "value": 50,
            "_view_count": null,
            "_view_module_version": "1.5.0",
            "orientation": "horizontal",
            "min": 0,
            "description_tooltip": null,
            "_model_module": "@jupyter-widgets/controls",
            "layout": "IPY_MODEL_35a99a26fd4842ebb416390322803c73"
          }
        },
        "a6659474c28f47dbbf69e9a422aff9a2": {
          "model_module": "@jupyter-widgets/controls",
          "model_name": "HTMLModel",
          "model_module_version": "1.5.0",
          "state": {
            "_view_name": "HTMLView",
            "style": "IPY_MODEL_c40343d4f873451c94ab3f0aafeb7089",
            "_dom_classes": [],
            "description": "",
            "_model_name": "HTMLModel",
            "placeholder": "​",
            "_view_module": "@jupyter-widgets/controls",
            "_model_module_version": "1.5.0",
            "value": " 50/50 [00:00&lt;00:00, 160.26ex/s]",
            "_view_count": null,
            "_view_module_version": "1.5.0",
            "description_tooltip": null,
            "_model_module": "@jupyter-widgets/controls",
            "layout": "IPY_MODEL_9bf1681daee143d4befff047970cbcaa"
          }
        },
        "7bf02965137e4e18a2fb7d5c7133b9eb": {
          "model_module": "@jupyter-widgets/controls",
          "model_name": "DescriptionStyleModel",
          "model_module_version": "1.5.0",
          "state": {
            "_view_name": "StyleView",
            "_model_name": "DescriptionStyleModel",
            "description_width": "",
            "_view_module": "@jupyter-widgets/base",
            "_model_module_version": "1.5.0",
            "_view_count": null,
            "_view_module_version": "1.2.0",
            "_model_module": "@jupyter-widgets/controls"
          }
        },
        "b81b265c9cfa471186b5de11221754d9": {
          "model_module": "@jupyter-widgets/base",
          "model_name": "LayoutModel",
          "model_module_version": "1.2.0",
          "state": {
            "_view_name": "LayoutView",
            "grid_template_rows": null,
            "right": null,
            "justify_content": null,
            "_view_module": "@jupyter-widgets/base",
            "overflow": null,
            "_model_module_version": "1.2.0",
            "_view_count": null,
            "flex_flow": null,
            "width": null,
            "min_width": null,
            "border": null,
            "align_items": null,
            "bottom": null,
            "_model_module": "@jupyter-widgets/base",
            "top": null,
            "grid_column": null,
            "overflow_y": null,
            "overflow_x": null,
            "grid_auto_flow": null,
            "grid_area": null,
            "grid_template_columns": null,
            "flex": null,
            "_model_name": "LayoutModel",
            "justify_items": null,
            "grid_row": null,
            "max_height": null,
            "align_content": null,
            "visibility": null,
            "align_self": null,
            "height": null,
            "min_height": null,
            "padding": null,
            "grid_auto_rows": null,
            "grid_gap": null,
            "max_width": null,
            "order": null,
            "_view_module_version": "1.2.0",
            "grid_template_areas": null,
            "object_position": null,
            "object_fit": null,
            "grid_auto_columns": null,
            "margin": null,
            "display": null,
            "left": null
          }
        },
        "b42fcb8b3ec044ad98f22766c2faee07": {
          "model_module": "@jupyter-widgets/controls",
          "model_name": "ProgressStyleModel",
          "model_module_version": "1.5.0",
          "state": {
            "_view_name": "StyleView",
            "_model_name": "ProgressStyleModel",
            "description_width": "",
            "_view_module": "@jupyter-widgets/base",
            "_model_module_version": "1.5.0",
            "_view_count": null,
            "_view_module_version": "1.2.0",
            "bar_color": null,
            "_model_module": "@jupyter-widgets/controls"
          }
        },
        "35a99a26fd4842ebb416390322803c73": {
          "model_module": "@jupyter-widgets/base",
          "model_name": "LayoutModel",
          "model_module_version": "1.2.0",
          "state": {
            "_view_name": "LayoutView",
            "grid_template_rows": null,
            "right": null,
            "justify_content": null,
            "_view_module": "@jupyter-widgets/base",
            "overflow": null,
            "_model_module_version": "1.2.0",
            "_view_count": null,
            "flex_flow": null,
            "width": null,
            "min_width": null,
            "border": null,
            "align_items": null,
            "bottom": null,
            "_model_module": "@jupyter-widgets/base",
            "top": null,
            "grid_column": null,
            "overflow_y": null,
            "overflow_x": null,
            "grid_auto_flow": null,
            "grid_area": null,
            "grid_template_columns": null,
            "flex": null,
            "_model_name": "LayoutModel",
            "justify_items": null,
            "grid_row": null,
            "max_height": null,
            "align_content": null,
            "visibility": null,
            "align_self": null,
            "height": null,
            "min_height": null,
            "padding": null,
            "grid_auto_rows": null,
            "grid_gap": null,
            "max_width": null,
            "order": null,
            "_view_module_version": "1.2.0",
            "grid_template_areas": null,
            "object_position": null,
            "object_fit": null,
            "grid_auto_columns": null,
            "margin": null,
            "display": null,
            "left": null
          }
        },
        "c40343d4f873451c94ab3f0aafeb7089": {
          "model_module": "@jupyter-widgets/controls",
          "model_name": "DescriptionStyleModel",
          "model_module_version": "1.5.0",
          "state": {
            "_view_name": "StyleView",
            "_model_name": "DescriptionStyleModel",
            "description_width": "",
            "_view_module": "@jupyter-widgets/base",
            "_model_module_version": "1.5.0",
            "_view_count": null,
            "_view_module_version": "1.2.0",
            "_model_module": "@jupyter-widgets/controls"
          }
        },
        "9bf1681daee143d4befff047970cbcaa": {
          "model_module": "@jupyter-widgets/base",
          "model_name": "LayoutModel",
          "model_module_version": "1.2.0",
          "state": {
            "_view_name": "LayoutView",
            "grid_template_rows": null,
            "right": null,
            "justify_content": null,
            "_view_module": "@jupyter-widgets/base",
            "overflow": null,
            "_model_module_version": "1.2.0",
            "_view_count": null,
            "flex_flow": null,
            "width": null,
            "min_width": null,
            "border": null,
            "align_items": null,
            "bottom": null,
            "_model_module": "@jupyter-widgets/base",
            "top": null,
            "grid_column": null,
            "overflow_y": null,
            "overflow_x": null,
            "grid_auto_flow": null,
            "grid_area": null,
            "grid_template_columns": null,
            "flex": null,
            "_model_name": "LayoutModel",
            "justify_items": null,
            "grid_row": null,
            "max_height": null,
            "align_content": null,
            "visibility": null,
            "align_self": null,
            "height": null,
            "min_height": null,
            "padding": null,
            "grid_auto_rows": null,
            "grid_gap": null,
            "max_width": null,
            "order": null,
            "_view_module_version": "1.2.0",
            "grid_template_areas": null,
            "object_position": null,
            "object_fit": null,
            "grid_auto_columns": null,
            "margin": null,
            "display": null,
            "left": null
          }
        },
        "80942028215b486a8038b60a398b0645": {
          "model_module": "@jupyter-widgets/controls",
          "model_name": "HBoxModel",
          "model_module_version": "1.5.0",
          "state": {
            "_view_name": "HBoxView",
            "_dom_classes": [],
            "_model_name": "HBoxModel",
            "_view_module": "@jupyter-widgets/controls",
            "_model_module_version": "1.5.0",
            "_view_count": null,
            "_view_module_version": "1.5.0",
            "box_style": "",
            "layout": "IPY_MODEL_f0910bdca8f24ed3afe665f1f82c4a26",
            "_model_module": "@jupyter-widgets/controls",
            "children": [
              "IPY_MODEL_9de30d00f8b84c0db18d3df4a8980855",
              "IPY_MODEL_50c6d926a4934395a3d30351107577ac",
              "IPY_MODEL_0e35fa77377c41a8884d50698575b460"
            ]
          }
        },
        "f0910bdca8f24ed3afe665f1f82c4a26": {
          "model_module": "@jupyter-widgets/base",
          "model_name": "LayoutModel",
          "model_module_version": "1.2.0",
          "state": {
            "_view_name": "LayoutView",
            "grid_template_rows": null,
            "right": null,
            "justify_content": null,
            "_view_module": "@jupyter-widgets/base",
            "overflow": null,
            "_model_module_version": "1.2.0",
            "_view_count": null,
            "flex_flow": null,
            "width": null,
            "min_width": null,
            "border": null,
            "align_items": null,
            "bottom": null,
            "_model_module": "@jupyter-widgets/base",
            "top": null,
            "grid_column": null,
            "overflow_y": null,
            "overflow_x": null,
            "grid_auto_flow": null,
            "grid_area": null,
            "grid_template_columns": null,
            "flex": null,
            "_model_name": "LayoutModel",
            "justify_items": null,
            "grid_row": null,
            "max_height": null,
            "align_content": null,
            "visibility": null,
            "align_self": null,
            "height": null,
            "min_height": null,
            "padding": null,
            "grid_auto_rows": null,
            "grid_gap": null,
            "max_width": null,
            "order": null,
            "_view_module_version": "1.2.0",
            "grid_template_areas": null,
            "object_position": null,
            "object_fit": null,
            "grid_auto_columns": null,
            "margin": null,
            "display": null,
            "left": null
          }
        },
        "9de30d00f8b84c0db18d3df4a8980855": {
          "model_module": "@jupyter-widgets/controls",
          "model_name": "HTMLModel",
          "model_module_version": "1.5.0",
          "state": {
            "_view_name": "HTMLView",
            "style": "IPY_MODEL_7b39e29eba094c9d818897193790db32",
            "_dom_classes": [],
            "description": "",
            "_model_name": "HTMLModel",
            "placeholder": "​",
            "_view_module": "@jupyter-widgets/controls",
            "_model_module_version": "1.5.0",
            "value": "  0%",
            "_view_count": null,
            "_view_module_version": "1.5.0",
            "description_tooltip": null,
            "_model_module": "@jupyter-widgets/controls",
            "layout": "IPY_MODEL_a7c4a48480054f38aea69a204d6b0733"
          }
        },
        "50c6d926a4934395a3d30351107577ac": {
          "model_module": "@jupyter-widgets/controls",
          "model_name": "FloatProgressModel",
          "model_module_version": "1.5.0",
          "state": {
            "_view_name": "ProgressView",
            "style": "IPY_MODEL_8be092ee910347f49d056290240d02ae",
            "_dom_classes": [],
            "description": "",
            "_model_name": "FloatProgressModel",
            "bar_style": "danger",
            "max": 19,
            "_view_module": "@jupyter-widgets/controls",
            "_model_module_version": "1.5.0",
            "value": 0,
            "_view_count": null,
            "_view_module_version": "1.5.0",
            "orientation": "horizontal",
            "min": 0,
            "description_tooltip": null,
            "_model_module": "@jupyter-widgets/controls",
            "layout": "IPY_MODEL_da911b870ff64b089f21bb5b1b805cac"
          }
        },
        "0e35fa77377c41a8884d50698575b460": {
          "model_module": "@jupyter-widgets/controls",
          "model_name": "HTMLModel",
          "model_module_version": "1.5.0",
          "state": {
            "_view_name": "HTMLView",
            "style": "IPY_MODEL_b42cb9bad4444f49bd613314e9da2c04",
            "_dom_classes": [],
            "description": "",
            "_model_name": "HTMLModel",
            "placeholder": "​",
            "_view_module": "@jupyter-widgets/controls",
            "_model_module_version": "1.5.0",
            "value": " 0/19 [00:07&lt;?, ?it/s]",
            "_view_count": null,
            "_view_module_version": "1.5.0",
            "description_tooltip": null,
            "_model_module": "@jupyter-widgets/controls",
            "layout": "IPY_MODEL_7f3f16a84f89401cbb36bd5678b5e6ee"
          }
        },
        "7b39e29eba094c9d818897193790db32": {
          "model_module": "@jupyter-widgets/controls",
          "model_name": "DescriptionStyleModel",
          "model_module_version": "1.5.0",
          "state": {
            "_view_name": "StyleView",
            "_model_name": "DescriptionStyleModel",
            "description_width": "",
            "_view_module": "@jupyter-widgets/base",
            "_model_module_version": "1.5.0",
            "_view_count": null,
            "_view_module_version": "1.2.0",
            "_model_module": "@jupyter-widgets/controls"
          }
        },
        "a7c4a48480054f38aea69a204d6b0733": {
          "model_module": "@jupyter-widgets/base",
          "model_name": "LayoutModel",
          "model_module_version": "1.2.0",
          "state": {
            "_view_name": "LayoutView",
            "grid_template_rows": null,
            "right": null,
            "justify_content": null,
            "_view_module": "@jupyter-widgets/base",
            "overflow": null,
            "_model_module_version": "1.2.0",
            "_view_count": null,
            "flex_flow": null,
            "width": null,
            "min_width": null,
            "border": null,
            "align_items": null,
            "bottom": null,
            "_model_module": "@jupyter-widgets/base",
            "top": null,
            "grid_column": null,
            "overflow_y": null,
            "overflow_x": null,
            "grid_auto_flow": null,
            "grid_area": null,
            "grid_template_columns": null,
            "flex": null,
            "_model_name": "LayoutModel",
            "justify_items": null,
            "grid_row": null,
            "max_height": null,
            "align_content": null,
            "visibility": null,
            "align_self": null,
            "height": null,
            "min_height": null,
            "padding": null,
            "grid_auto_rows": null,
            "grid_gap": null,
            "max_width": null,
            "order": null,
            "_view_module_version": "1.2.0",
            "grid_template_areas": null,
            "object_position": null,
            "object_fit": null,
            "grid_auto_columns": null,
            "margin": null,
            "display": null,
            "left": null
          }
        },
        "8be092ee910347f49d056290240d02ae": {
          "model_module": "@jupyter-widgets/controls",
          "model_name": "ProgressStyleModel",
          "model_module_version": "1.5.0",
          "state": {
            "_view_name": "StyleView",
            "_model_name": "ProgressStyleModel",
            "description_width": "",
            "_view_module": "@jupyter-widgets/base",
            "_model_module_version": "1.5.0",
            "_view_count": null,
            "_view_module_version": "1.2.0",
            "bar_color": null,
            "_model_module": "@jupyter-widgets/controls"
          }
        },
        "da911b870ff64b089f21bb5b1b805cac": {
          "model_module": "@jupyter-widgets/base",
          "model_name": "LayoutModel",
          "model_module_version": "1.2.0",
          "state": {
            "_view_name": "LayoutView",
            "grid_template_rows": null,
            "right": null,
            "justify_content": null,
            "_view_module": "@jupyter-widgets/base",
            "overflow": null,
            "_model_module_version": "1.2.0",
            "_view_count": null,
            "flex_flow": null,
            "width": null,
            "min_width": null,
            "border": null,
            "align_items": null,
            "bottom": null,
            "_model_module": "@jupyter-widgets/base",
            "top": null,
            "grid_column": null,
            "overflow_y": null,
            "overflow_x": null,
            "grid_auto_flow": null,
            "grid_area": null,
            "grid_template_columns": null,
            "flex": null,
            "_model_name": "LayoutModel",
            "justify_items": null,
            "grid_row": null,
            "max_height": null,
            "align_content": null,
            "visibility": null,
            "align_self": null,
            "height": null,
            "min_height": null,
            "padding": null,
            "grid_auto_rows": null,
            "grid_gap": null,
            "max_width": null,
            "order": null,
            "_view_module_version": "1.2.0",
            "grid_template_areas": null,
            "object_position": null,
            "object_fit": null,
            "grid_auto_columns": null,
            "margin": null,
            "display": null,
            "left": null
          }
        },
        "b42cb9bad4444f49bd613314e9da2c04": {
          "model_module": "@jupyter-widgets/controls",
          "model_name": "DescriptionStyleModel",
          "model_module_version": "1.5.0",
          "state": {
            "_view_name": "StyleView",
            "_model_name": "DescriptionStyleModel",
            "description_width": "",
            "_view_module": "@jupyter-widgets/base",
            "_model_module_version": "1.5.0",
            "_view_count": null,
            "_view_module_version": "1.2.0",
            "_model_module": "@jupyter-widgets/controls"
          }
        },
        "7f3f16a84f89401cbb36bd5678b5e6ee": {
          "model_module": "@jupyter-widgets/base",
          "model_name": "LayoutModel",
          "model_module_version": "1.2.0",
          "state": {
            "_view_name": "LayoutView",
            "grid_template_rows": null,
            "right": null,
            "justify_content": null,
            "_view_module": "@jupyter-widgets/base",
            "overflow": null,
            "_model_module_version": "1.2.0",
            "_view_count": null,
            "flex_flow": null,
            "width": null,
            "min_width": null,
            "border": null,
            "align_items": null,
            "bottom": null,
            "_model_module": "@jupyter-widgets/base",
            "top": null,
            "grid_column": null,
            "overflow_y": null,
            "overflow_x": null,
            "grid_auto_flow": null,
            "grid_area": null,
            "grid_template_columns": null,
            "flex": null,
            "_model_name": "LayoutModel",
            "justify_items": null,
            "grid_row": null,
            "max_height": null,
            "align_content": null,
            "visibility": null,
            "align_self": null,
            "height": null,
            "min_height": null,
            "padding": null,
            "grid_auto_rows": null,
            "grid_gap": null,
            "max_width": null,
            "order": null,
            "_view_module_version": "1.2.0",
            "grid_template_areas": null,
            "object_position": null,
            "object_fit": null,
            "grid_auto_columns": null,
            "margin": null,
            "display": null,
            "left": null
          }
        }
      }
    },
    "accelerator": "GPU"
  },
  "nbformat": 4,
  "nbformat_minor": 0
}